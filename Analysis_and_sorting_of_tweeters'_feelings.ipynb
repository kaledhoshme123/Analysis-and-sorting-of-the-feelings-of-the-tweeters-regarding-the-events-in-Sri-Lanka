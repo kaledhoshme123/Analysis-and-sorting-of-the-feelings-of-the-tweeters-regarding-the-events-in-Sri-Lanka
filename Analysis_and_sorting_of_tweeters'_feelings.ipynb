{
  "nbformat": 4,
  "nbformat_minor": 0,
  "metadata": {
    "colab": {
      "name": "Analysis and sorting of tweeters' feelings.ipynb",
      "provenance": [],
      "collapsed_sections": [],
      "machine_shape": "hm",
      "background_execution": "on"
    },
    "kernelspec": {
      "name": "python3",
      "display_name": "Python 3"
    },
    "language_info": {
      "name": "python"
    },
    "accelerator": "GPU",
    "gpuClass": "standard"
  },
  "cells": [
    {
      "cell_type": "markdown",
      "source": [
        "#Analysis and sorting of tweeters' feelings"
      ],
      "metadata": {
        "id": "wkTt79exIvD5"
      }
    },
    {
      "cell_type": "markdown",
      "source": [
        "The following code illustrates the mechanism by which we can aggregate Tweets based on sentiment.\n",
        "The aggregation process is based on the association of tweets with the same feelings, as well as the degree and proportion of the feeling.\n",
        "\n",
        "The methodology used is based on building a recurrent neural network capable of analyzing sentiment, using a data set that includes a number of emotions.\n",
        "The next stage involves using the trained model to sort tweets based on sentiment with a rating ratio.\n",
        "In this partial stage, we will follow two methodologies: The first is to draw a graph that shows the percentage of each of the feelings of the tweeters within Twitter regarding what is happening in the state of Sri Lanka.\n",
        "The next partial stage, is to move to the study of each of these feelings for the tweeters, and try to collect them in order to determine the degree of feelings for each of them.\n",
        "The final hierarchical schemas (for each one of the feelings) will show the correlation of the tweeters in terms of the degree of affiliation with that feeling.\n",
        "The Euclidean distance was used to calculate the degree of convergence for a single feeling (depending on the percentage of tweeting classification and belonging to a specific feeling)."
      ],
      "metadata": {
        "id": "NOscR54nkfDe"
      }
    },
    {
      "cell_type": "code",
      "source": [
        "!wget https://nlp.stanford.edu/data/glove.6B.zip"
      ],
      "metadata": {
        "colab": {
          "base_uri": "https://localhost:8080/"
        },
        "id": "fdMrm2WGRhIz",
        "outputId": "40f2ca23-9f60-4ea5-976b-058165662f9b"
      },
      "execution_count": 1,
      "outputs": [
        {
          "output_type": "stream",
          "name": "stdout",
          "text": [
            "--2022-07-13 06:43:38--  https://nlp.stanford.edu/data/glove.6B.zip\n",
            "Resolving nlp.stanford.edu (nlp.stanford.edu)... 171.64.67.140\n",
            "Connecting to nlp.stanford.edu (nlp.stanford.edu)|171.64.67.140|:443... connected.\n",
            "HTTP request sent, awaiting response... 301 Moved Permanently\n",
            "Location: https://downloads.cs.stanford.edu/nlp/data/glove.6B.zip [following]\n",
            "--2022-07-13 06:43:39--  https://downloads.cs.stanford.edu/nlp/data/glove.6B.zip\n",
            "Resolving downloads.cs.stanford.edu (downloads.cs.stanford.edu)... 171.64.64.22\n",
            "Connecting to downloads.cs.stanford.edu (downloads.cs.stanford.edu)|171.64.64.22|:443... connected.\n",
            "HTTP request sent, awaiting response... 200 OK\n",
            "Length: 862182613 (822M) [application/zip]\n",
            "Saving to: ‘glove.6B.zip’\n",
            "\n",
            "glove.6B.zip        100%[===================>] 822.24M  5.01MB/s    in 2m 38s  \n",
            "\n",
            "2022-07-13 06:46:18 (5.19 MB/s) - ‘glove.6B.zip’ saved [862182613/862182613]\n",
            "\n"
          ]
        }
      ]
    },
    {
      "cell_type": "code",
      "source": [
        "!unzip glove.6B.zip"
      ],
      "metadata": {
        "colab": {
          "base_uri": "https://localhost:8080/"
        },
        "id": "cOdFRHWtS8qj",
        "outputId": "f59ef44d-fb7d-46b4-f1de-961df8fcbe24"
      },
      "execution_count": 2,
      "outputs": [
        {
          "output_type": "stream",
          "name": "stdout",
          "text": [
            "Archive:  glove.6B.zip\n",
            "  inflating: glove.6B.50d.txt        \n",
            "  inflating: glove.6B.100d.txt       \n",
            "  inflating: glove.6B.200d.txt       \n",
            "  inflating: glove.6B.300d.txt       \n"
          ]
        }
      ]
    },
    {
      "cell_type": "code",
      "execution_count": 3,
      "metadata": {
        "colab": {
          "base_uri": "https://localhost:8080/"
        },
        "id": "s1pj1CGVp4U-",
        "outputId": "485f9861-5386-48b6-88ed-938f35abc4b0"
      },
      "outputs": [
        {
          "output_type": "stream",
          "name": "stdout",
          "text": [
            "Looking in indexes: https://pypi.org/simple, https://us-python.pkg.dev/colab-wheels/public/simple/\n",
            "Collecting opendatasets\n",
            "  Downloading opendatasets-0.1.22-py3-none-any.whl (15 kB)\n",
            "Requirement already satisfied: tqdm in /usr/local/lib/python3.7/dist-packages (from opendatasets) (4.64.0)\n",
            "Requirement already satisfied: click in /usr/local/lib/python3.7/dist-packages (from opendatasets) (7.1.2)\n",
            "Requirement already satisfied: kaggle in /usr/local/lib/python3.7/dist-packages (from opendatasets) (1.5.12)\n",
            "Requirement already satisfied: urllib3 in /usr/local/lib/python3.7/dist-packages (from kaggle->opendatasets) (1.24.3)\n",
            "Requirement already satisfied: requests in /usr/local/lib/python3.7/dist-packages (from kaggle->opendatasets) (2.23.0)\n",
            "Requirement already satisfied: python-slugify in /usr/local/lib/python3.7/dist-packages (from kaggle->opendatasets) (6.1.2)\n",
            "Requirement already satisfied: python-dateutil in /usr/local/lib/python3.7/dist-packages (from kaggle->opendatasets) (2.8.2)\n",
            "Requirement already satisfied: six>=1.10 in /usr/local/lib/python3.7/dist-packages (from kaggle->opendatasets) (1.15.0)\n",
            "Requirement already satisfied: certifi in /usr/local/lib/python3.7/dist-packages (from kaggle->opendatasets) (2022.6.15)\n",
            "Requirement already satisfied: text-unidecode>=1.3 in /usr/local/lib/python3.7/dist-packages (from python-slugify->kaggle->opendatasets) (1.3)\n",
            "Requirement already satisfied: chardet<4,>=3.0.2 in /usr/local/lib/python3.7/dist-packages (from requests->kaggle->opendatasets) (3.0.4)\n",
            "Requirement already satisfied: idna<3,>=2.5 in /usr/local/lib/python3.7/dist-packages (from requests->kaggle->opendatasets) (2.10)\n",
            "Installing collected packages: opendatasets\n",
            "Successfully installed opendatasets-0.1.22\n"
          ]
        }
      ],
      "source": [
        "!pip install opendatasets"
      ]
    },
    {
      "cell_type": "markdown",
      "source": [
        "#Download Dataset:\n",
        "https://www.kaggle.com/datasets/vishesh1412/twitter-dataset-sri-lanka-crisis\n",
        "\n",
        "https://www.kaggle.com/datasets/praveengovi/emotions-dataset-for-nlp"
      ],
      "metadata": {
        "id": "cyn9nJo0l9Xu"
      }
    },
    {
      "cell_type": "code",
      "source": [
        "import opendatasets as op"
      ],
      "metadata": {
        "id": "UouennyQlWL5"
      },
      "execution_count": 4,
      "outputs": []
    },
    {
      "cell_type": "code",
      "source": [
        "op.download(\"https://www.kaggle.com/datasets/vishesh1412/twitter-dataset-sri-lanka-crisis\")"
      ],
      "metadata": {
        "colab": {
          "base_uri": "https://localhost:8080/"
        },
        "id": "2uLsqCUNqTXN",
        "outputId": "bd556583-e73a-435a-e216-c34baa98ce8a"
      },
      "execution_count": 166,
      "outputs": [
        {
          "output_type": "stream",
          "name": "stdout",
          "text": [
            "Please provide your Kaggle credentials to download this dataset. Learn more: http://bit.ly/kaggle-creds\n",
            "Your Kaggle username: kaledhoshme\n",
            "Your Kaggle Key: ··········\n",
            "Downloading twitter-dataset-sri-lanka-crisis.zip to ./twitter-dataset-sri-lanka-crisis\n"
          ]
        },
        {
          "output_type": "stream",
          "name": "stderr",
          "text": [
            "100%|██████████| 1.86M/1.86M [00:00<00:00, 202MB/s]"
          ]
        },
        {
          "output_type": "stream",
          "name": "stdout",
          "text": [
            "\n"
          ]
        },
        {
          "output_type": "stream",
          "name": "stderr",
          "text": [
            "\n"
          ]
        }
      ]
    },
    {
      "cell_type": "code",
      "source": [
        "op.download(\"https://www.kaggle.com/datasets/praveengovi/emotions-dataset-for-nlp\")"
      ],
      "metadata": {
        "colab": {
          "base_uri": "https://localhost:8080/"
        },
        "id": "XU50_r9r1D2i",
        "outputId": "927f6838-c17b-490e-9b1d-7aafbe87c45d"
      },
      "execution_count": 5,
      "outputs": [
        {
          "output_type": "stream",
          "name": "stdout",
          "text": [
            "Please provide your Kaggle credentials to download this dataset. Learn more: http://bit.ly/kaggle-creds\n",
            "Your Kaggle username: kaledhoshme\n",
            "Your Kaggle Key: ··········\n",
            "Downloading emotions-dataset-for-nlp.zip to ./emotions-dataset-for-nlp\n"
          ]
        },
        {
          "output_type": "stream",
          "name": "stderr",
          "text": [
            "100%|██████████| 721k/721k [00:00<00:00, 103MB/s]"
          ]
        },
        {
          "output_type": "stream",
          "name": "stdout",
          "text": [
            "\n"
          ]
        },
        {
          "output_type": "stream",
          "name": "stderr",
          "text": [
            "\n"
          ]
        }
      ]
    },
    {
      "cell_type": "code",
      "source": [
        "dataset_emotion = \"emotions-dataset-for-nlp\""
      ],
      "metadata": {
        "id": "_zTWC3B7q4hc"
      },
      "execution_count": 167,
      "outputs": []
    },
    {
      "cell_type": "markdown",
      "source": [
        "#Import Packages:"
      ],
      "metadata": {
        "id": "8lJZaw7rmLVq"
      }
    },
    {
      "cell_type": "code",
      "source": [
        "import pandas as pd\n",
        "import os\n",
        "import numpy as np\n",
        "import tensorflow as tf\n",
        "import keras\n",
        "import nltk\n",
        "import string\n",
        "from tensorflow.keras.preprocessing.text import Tokenizer\n",
        "from tensorflow.keras.preprocessing.sequence import pad_sequences\n",
        "from tensorflow.keras.layers import Input, Embedding, LSTM ,Conv2D, Dense,GlobalAveragePooling1D,Flatten, Dropout , GRU, TimeDistributed, Conv1D, MaxPool1D, MaxPool2D\n",
        "from tensorflow.keras.models import Sequential\n",
        "import matplotlib.pyplot as plt\n",
        "from sklearn.preprocessing import LabelEncoder\n",
        "from tensorflow.keras.utils import to_categorical\n",
        "from sklearn.model_selection import train_test_split\n",
        "from keras.callbacks import EarlyStopping\n",
        "import matplotlib as mpl"
      ],
      "metadata": {
        "id": "fXlUC8nS2Jhk"
      },
      "execution_count": 160,
      "outputs": []
    },
    {
      "cell_type": "markdown",
      "source": [
        "#First Step:\n",
        "building a recurrent neural network capable of analyzing emotions, using a dataset that includes a number of emotions."
      ],
      "metadata": {
        "id": "Ti78Jl77mOSQ"
      }
    },
    {
      "cell_type": "code",
      "source": [
        "from nltk.stem.porter import PorterStemmer\n",
        "from nltk.corpus import stopwords\n",
        "nltk.download('stopwords')\n",
        "porter = PorterStemmer()\n",
        "stop_words = stopwords.words('english')"
      ],
      "metadata": {
        "colab": {
          "base_uri": "https://localhost:8080/"
        },
        "id": "QTldoyaQ5-xc",
        "outputId": "0ce16bb5-0522-4d30-fc08-4b929b1df4ce"
      },
      "execution_count": 8,
      "outputs": [
        {
          "output_type": "stream",
          "name": "stderr",
          "text": [
            "[nltk_data] Downloading package stopwords to /root/nltk_data...\n",
            "[nltk_data]   Unzipping corpora/stopwords.zip.\n"
          ]
        }
      ]
    },
    {
      "cell_type": "code",
      "source": [
        "class Emotion:\n",
        "  def __init__(self, datasetFolder, batch_size, validation_split, optimizer, loss, epochs):\n",
        "    self.datasetFolder = datasetFolder\n",
        "    self.batch_size = batch_size\n",
        "    self.validation_split = validation_split\n",
        "    self.optimizer = optimizer\n",
        "    self.loss = loss\n",
        "    self.epochs = epochs\n",
        "  def readDatasetCSV(self):\n",
        "    trainDataset = pd.read_csv(os.path.join(self.datasetFolder, \"train.txt\"), names=['Text', 'Emotion'], sep=';')\n",
        "    testDataset = pd.read_csv(os.path.join(self.datasetFolder, \"test.txt\"), names=['Text', 'Emotion'], sep=';')\n",
        "    validDataset = pd.read_csv(os.path.join(self.datasetFolder, \"val.txt\"), names=['Text', 'Emotion'], sep=';')\n",
        "    list_dataset = [trainDataset, testDataset, validDataset]\n",
        "    self.dataset = pd.concat(list_dataset)\n",
        "  def FeaturesLables(self):\n",
        "    self.features = self.dataset['Text']\n",
        "    self.labels = self.dataset['Emotion']  \n",
        "  def splitDataset(self):\n",
        "    self.X_train, self.X_test, self.Y_train, self.Y_test = train_test_split(self.features,\n",
        "                                                                            self.labels, \n",
        "                                                                            test_size = self.validation_split)\n",
        "  def CleanFeatures(self):\n",
        "    self.features = self.features.apply(lambda sequence:\n",
        "                                              [ltrs.lower() for ltrs in sequence if ltrs not in string.punctuation])\n",
        "    self.features = self.features.apply(lambda wrd: ''.join(wrd))\n",
        "  def tokenizerDataset(self):\n",
        "    self.tokenizer = Tokenizer(num_words=5000)\n",
        "    self.tokenizer.fit_on_texts(self.features)\n",
        "    train = self.tokenizer.texts_to_sequences(self.features)\n",
        "    self.features = pad_sequences(train)\n",
        "    le = LabelEncoder()\n",
        "    self.labels = le.fit_transform(self.labels)\n",
        "    self.vocabulary = len(self.tokenizer.word_index)\n",
        "  def label_categorical(self):\n",
        "    self.labels = to_categorical(self.labels, 6)\n",
        "  def glove_word_embedding(self, file_name):\n",
        "    self.embeddings_index = {}\n",
        "    file_ = open(file_name)\n",
        "    for line in file_:\n",
        "        arr = line.split()\n",
        "        single_word = arr[0]\n",
        "        w = np.asarray(arr[1:],dtype='float32')\n",
        "        self.embeddings_index[single_word] = w\n",
        "    file_.close()\n",
        "    max_words = self.vocabulary + 1\n",
        "    word_index = self.tokenizer.word_index\n",
        "    self.embedding_matrix = np.zeros((max_words,300)).astype(object)\n",
        "    for word , i in word_index.items():\n",
        "            embedding_vector = self.embeddings_index.get(word)\n",
        "            if embedding_vector is not None:\n",
        "                self.embedding_matrix[i] = embedding_vector  \n",
        "  def model(self):\n",
        "    m = Sequential()\n",
        "    m.add(Input(shape=(self.features.shape[1], )))\n",
        "    m.add(Embedding(self.vocabulary + 1,300))\n",
        "    m.add(GRU(128, recurrent_dropout=0.3, return_sequences=False, activity_regularizer = tf.keras.regularizers.L2(0.0001)))\n",
        "    m.add(Dense(6, activation=\"softmax\", activity_regularizer = tf.keras.regularizers.L2(0.0001)))\n",
        "    self.m = m\n",
        "  def compiler(self):\n",
        "    self.m.compile(loss= self.loss,optimizer=self.optimizer,metrics=['accuracy'])\n",
        "  def fit(self):\n",
        "    earlyStopping = EarlyStopping(monitor = 'loss', patience = 20, mode = 'min', restore_best_weights = True)\n",
        "    self.history_training = self.m.fit(self.X_train, self.Y_train, epochs= self.epochs,batch_size = self.batch_size,\n",
        "                                       callbacks=[ earlyStopping])      "
      ],
      "metadata": {
        "id": "-hCaKP731THK"
      },
      "execution_count": 103,
      "outputs": []
    },
    {
      "cell_type": "code",
      "source": [
        "emotion = Emotion(dataset_emotion, 256, 0.1, 'adam', 'categorical_crossentropy', 120)"
      ],
      "metadata": {
        "id": "7lx7E5vh4JJj"
      },
      "execution_count": 104,
      "outputs": []
    },
    {
      "cell_type": "code",
      "source": [
        "emotion.readDatasetCSV()"
      ],
      "metadata": {
        "id": "VbeS33eK4ZGo"
      },
      "execution_count": 105,
      "outputs": []
    },
    {
      "cell_type": "code",
      "source": [
        "emotion.dataset.head()"
      ],
      "metadata": {
        "colab": {
          "base_uri": "https://localhost:8080/",
          "height": 206
        },
        "id": "6LOwhoJd5G_y",
        "outputId": "f6e585c5-b1c4-4eae-c762-0801ddd422ef"
      },
      "execution_count": 106,
      "outputs": [
        {
          "output_type": "execute_result",
          "data": {
            "text/plain": [
              "                                                Text  Emotion\n",
              "0                            i didnt feel humiliated  sadness\n",
              "1  i can go from feeling so hopeless to so damned...  sadness\n",
              "2   im grabbing a minute to post i feel greedy wrong    anger\n",
              "3  i am ever feeling nostalgic about the fireplac...     love\n",
              "4                               i am feeling grouchy    anger"
            ],
            "text/html": [
              "\n",
              "  <div id=\"df-927a13ac-0a44-4338-87ac-19dc58de0657\">\n",
              "    <div class=\"colab-df-container\">\n",
              "      <div>\n",
              "<style scoped>\n",
              "    .dataframe tbody tr th:only-of-type {\n",
              "        vertical-align: middle;\n",
              "    }\n",
              "\n",
              "    .dataframe tbody tr th {\n",
              "        vertical-align: top;\n",
              "    }\n",
              "\n",
              "    .dataframe thead th {\n",
              "        text-align: right;\n",
              "    }\n",
              "</style>\n",
              "<table border=\"1\" class=\"dataframe\">\n",
              "  <thead>\n",
              "    <tr style=\"text-align: right;\">\n",
              "      <th></th>\n",
              "      <th>Text</th>\n",
              "      <th>Emotion</th>\n",
              "    </tr>\n",
              "  </thead>\n",
              "  <tbody>\n",
              "    <tr>\n",
              "      <th>0</th>\n",
              "      <td>i didnt feel humiliated</td>\n",
              "      <td>sadness</td>\n",
              "    </tr>\n",
              "    <tr>\n",
              "      <th>1</th>\n",
              "      <td>i can go from feeling so hopeless to so damned...</td>\n",
              "      <td>sadness</td>\n",
              "    </tr>\n",
              "    <tr>\n",
              "      <th>2</th>\n",
              "      <td>im grabbing a minute to post i feel greedy wrong</td>\n",
              "      <td>anger</td>\n",
              "    </tr>\n",
              "    <tr>\n",
              "      <th>3</th>\n",
              "      <td>i am ever feeling nostalgic about the fireplac...</td>\n",
              "      <td>love</td>\n",
              "    </tr>\n",
              "    <tr>\n",
              "      <th>4</th>\n",
              "      <td>i am feeling grouchy</td>\n",
              "      <td>anger</td>\n",
              "    </tr>\n",
              "  </tbody>\n",
              "</table>\n",
              "</div>\n",
              "      <button class=\"colab-df-convert\" onclick=\"convertToInteractive('df-927a13ac-0a44-4338-87ac-19dc58de0657')\"\n",
              "              title=\"Convert this dataframe to an interactive table.\"\n",
              "              style=\"display:none;\">\n",
              "        \n",
              "  <svg xmlns=\"http://www.w3.org/2000/svg\" height=\"24px\"viewBox=\"0 0 24 24\"\n",
              "       width=\"24px\">\n",
              "    <path d=\"M0 0h24v24H0V0z\" fill=\"none\"/>\n",
              "    <path d=\"M18.56 5.44l.94 2.06.94-2.06 2.06-.94-2.06-.94-.94-2.06-.94 2.06-2.06.94zm-11 1L8.5 8.5l.94-2.06 2.06-.94-2.06-.94L8.5 2.5l-.94 2.06-2.06.94zm10 10l.94 2.06.94-2.06 2.06-.94-2.06-.94-.94-2.06-.94 2.06-2.06.94z\"/><path d=\"M17.41 7.96l-1.37-1.37c-.4-.4-.92-.59-1.43-.59-.52 0-1.04.2-1.43.59L10.3 9.45l-7.72 7.72c-.78.78-.78 2.05 0 2.83L4 21.41c.39.39.9.59 1.41.59.51 0 1.02-.2 1.41-.59l7.78-7.78 2.81-2.81c.8-.78.8-2.07 0-2.86zM5.41 20L4 18.59l7.72-7.72 1.47 1.35L5.41 20z\"/>\n",
              "  </svg>\n",
              "      </button>\n",
              "      \n",
              "  <style>\n",
              "    .colab-df-container {\n",
              "      display:flex;\n",
              "      flex-wrap:wrap;\n",
              "      gap: 12px;\n",
              "    }\n",
              "\n",
              "    .colab-df-convert {\n",
              "      background-color: #E8F0FE;\n",
              "      border: none;\n",
              "      border-radius: 50%;\n",
              "      cursor: pointer;\n",
              "      display: none;\n",
              "      fill: #1967D2;\n",
              "      height: 32px;\n",
              "      padding: 0 0 0 0;\n",
              "      width: 32px;\n",
              "    }\n",
              "\n",
              "    .colab-df-convert:hover {\n",
              "      background-color: #E2EBFA;\n",
              "      box-shadow: 0px 1px 2px rgba(60, 64, 67, 0.3), 0px 1px 3px 1px rgba(60, 64, 67, 0.15);\n",
              "      fill: #174EA6;\n",
              "    }\n",
              "\n",
              "    [theme=dark] .colab-df-convert {\n",
              "      background-color: #3B4455;\n",
              "      fill: #D2E3FC;\n",
              "    }\n",
              "\n",
              "    [theme=dark] .colab-df-convert:hover {\n",
              "      background-color: #434B5C;\n",
              "      box-shadow: 0px 1px 3px 1px rgba(0, 0, 0, 0.15);\n",
              "      filter: drop-shadow(0px 1px 2px rgba(0, 0, 0, 0.3));\n",
              "      fill: #FFFFFF;\n",
              "    }\n",
              "  </style>\n",
              "\n",
              "      <script>\n",
              "        const buttonEl =\n",
              "          document.querySelector('#df-927a13ac-0a44-4338-87ac-19dc58de0657 button.colab-df-convert');\n",
              "        buttonEl.style.display =\n",
              "          google.colab.kernel.accessAllowed ? 'block' : 'none';\n",
              "\n",
              "        async function convertToInteractive(key) {\n",
              "          const element = document.querySelector('#df-927a13ac-0a44-4338-87ac-19dc58de0657');\n",
              "          const dataTable =\n",
              "            await google.colab.kernel.invokeFunction('convertToInteractive',\n",
              "                                                     [key], {});\n",
              "          if (!dataTable) return;\n",
              "\n",
              "          const docLinkHtml = 'Like what you see? Visit the ' +\n",
              "            '<a target=\"_blank\" href=https://colab.research.google.com/notebooks/data_table.ipynb>data table notebook</a>'\n",
              "            + ' to learn more about interactive tables.';\n",
              "          element.innerHTML = '';\n",
              "          dataTable['output_type'] = 'display_data';\n",
              "          await google.colab.output.renderOutput(dataTable, element);\n",
              "          const docLink = document.createElement('div');\n",
              "          docLink.innerHTML = docLinkHtml;\n",
              "          element.appendChild(docLink);\n",
              "        }\n",
              "      </script>\n",
              "    </div>\n",
              "  </div>\n",
              "  "
            ]
          },
          "metadata": {},
          "execution_count": 106
        }
      ]
    },
    {
      "cell_type": "code",
      "source": [
        "emotion.FeaturesLables()"
      ],
      "metadata": {
        "id": "eiXNZHgv68U5"
      },
      "execution_count": 107,
      "outputs": []
    },
    {
      "cell_type": "code",
      "source": [
        "emotion.CleanFeatures()"
      ],
      "metadata": {
        "id": "Vwzhdol861C8"
      },
      "execution_count": 108,
      "outputs": []
    },
    {
      "cell_type": "code",
      "source": [
        "emotion.features.head()"
      ],
      "metadata": {
        "colab": {
          "base_uri": "https://localhost:8080/"
        },
        "id": "8W8kXcdj7D3V",
        "outputId": "a4a64f5b-bf51-4f67-c950-e1277ec4c420"
      },
      "execution_count": 109,
      "outputs": [
        {
          "output_type": "execute_result",
          "data": {
            "text/plain": [
              "0                              i didnt feel humiliated\n",
              "1    i can go from feeling so hopeless to so damned...\n",
              "2     im grabbing a minute to post i feel greedy wrong\n",
              "3    i am ever feeling nostalgic about the fireplac...\n",
              "4                                 i am feeling grouchy\n",
              "Name: Text, dtype: object"
            ]
          },
          "metadata": {},
          "execution_count": 109
        }
      ]
    },
    {
      "cell_type": "code",
      "source": [
        "emotion.labels.unique()"
      ],
      "metadata": {
        "colab": {
          "base_uri": "https://localhost:8080/"
        },
        "id": "jboiwLYR-BH5",
        "outputId": "d5af60f6-2b8d-44b5-f1f7-14c996b54fbe"
      },
      "execution_count": 110,
      "outputs": [
        {
          "output_type": "execute_result",
          "data": {
            "text/plain": [
              "array(['sadness', 'anger', 'love', 'surprise', 'fear', 'joy'],\n",
              "      dtype=object)"
            ]
          },
          "metadata": {},
          "execution_count": 110
        }
      ]
    },
    {
      "cell_type": "code",
      "source": [
        "emotion.tokenizerDataset()"
      ],
      "metadata": {
        "id": "YjnxHLx27LzC"
      },
      "execution_count": 111,
      "outputs": []
    },
    {
      "cell_type": "code",
      "source": [
        "emotion.features"
      ],
      "metadata": {
        "colab": {
          "base_uri": "https://localhost:8080/"
        },
        "id": "QadS6V1r7Nzy",
        "outputId": "3d925112-0091-4f8a-8fe5-82dbcf05c66b"
      },
      "execution_count": 112,
      "outputs": [
        {
          "output_type": "execute_result",
          "data": {
            "text/plain": [
              "array([[   0,    0,    0, ...,  138,    2,  625],\n",
              "       [   0,    0,    0, ...,    3,   21, 1383],\n",
              "       [   0,    0,    0, ...,    2,  495,  420],\n",
              "       ...,\n",
              "       [   0,    0,    0, ...,    5,  215,  191],\n",
              "       [   0,    0,    0, ...,   30,   57, 2181],\n",
              "       [   0,    0,    0, ...,   75,    5,   70]], dtype=int32)"
            ]
          },
          "metadata": {},
          "execution_count": 112
        }
      ]
    },
    {
      "cell_type": "code",
      "source": [
        "emotion.labels"
      ],
      "metadata": {
        "colab": {
          "base_uri": "https://localhost:8080/"
        },
        "id": "Fkl08uAy7Svb",
        "outputId": "dbf4de3f-076c-4d82-a5be-cd703ddd2a15"
      },
      "execution_count": 113,
      "outputs": [
        {
          "output_type": "execute_result",
          "data": {
            "text/plain": [
              "array([4, 4, 0, ..., 2, 2, 2])"
            ]
          },
          "metadata": {},
          "execution_count": 113
        }
      ]
    },
    {
      "cell_type": "code",
      "source": [
        "emotion.features.shape"
      ],
      "metadata": {
        "colab": {
          "base_uri": "https://localhost:8080/"
        },
        "id": "hNC3L4Ww7VGh",
        "outputId": "a98b7a8e-fb4c-4026-b277-9e732e426fd8"
      },
      "execution_count": 114,
      "outputs": [
        {
          "output_type": "execute_result",
          "data": {
            "text/plain": [
              "(20000, 63)"
            ]
          },
          "metadata": {},
          "execution_count": 114
        }
      ]
    },
    {
      "cell_type": "code",
      "source": [
        "emotion.features.shape"
      ],
      "metadata": {
        "colab": {
          "base_uri": "https://localhost:8080/"
        },
        "id": "MTYzKXMq7pWE",
        "outputId": "689e81db-a764-4a00-f6fc-25a7d9611a94"
      },
      "execution_count": 115,
      "outputs": [
        {
          "output_type": "execute_result",
          "data": {
            "text/plain": [
              "(20000, 63)"
            ]
          },
          "metadata": {},
          "execution_count": 115
        }
      ]
    },
    {
      "cell_type": "code",
      "source": [
        "emotion.label_categorical()"
      ],
      "metadata": {
        "id": "x6ZH_xy5-v8D"
      },
      "execution_count": 116,
      "outputs": []
    },
    {
      "cell_type": "code",
      "source": [
        "emotion.labels"
      ],
      "metadata": {
        "colab": {
          "base_uri": "https://localhost:8080/"
        },
        "id": "mL6csMqQ_H56",
        "outputId": "d0aca25f-3e98-4afa-e472-df13618c47f6"
      },
      "execution_count": 117,
      "outputs": [
        {
          "output_type": "execute_result",
          "data": {
            "text/plain": [
              "array([[0., 0., 0., 0., 1., 0.],\n",
              "       [0., 0., 0., 0., 1., 0.],\n",
              "       [1., 0., 0., 0., 0., 0.],\n",
              "       ...,\n",
              "       [0., 0., 1., 0., 0., 0.],\n",
              "       [0., 0., 1., 0., 0., 0.],\n",
              "       [0., 0., 1., 0., 0., 0.]], dtype=float32)"
            ]
          },
          "metadata": {},
          "execution_count": 117
        }
      ]
    },
    {
      "cell_type": "code",
      "source": [
        "emotion.splitDataset()"
      ],
      "metadata": {
        "id": "FGG0v5kgzhJ3"
      },
      "execution_count": 118,
      "outputs": []
    },
    {
      "cell_type": "code",
      "source": [
        "emotion.glove_word_embedding(\"glove.6B.300d.txt\")"
      ],
      "metadata": {
        "id": "ZYo7knqATXgE"
      },
      "execution_count": 119,
      "outputs": []
    },
    {
      "cell_type": "code",
      "source": [
        "emotion.model()\n",
        "emotion.m.layers[0].set_weights([emotion.embedding_matrix])\n",
        "emotion.m.layers[0].trainable = False"
      ],
      "metadata": {
        "colab": {
          "base_uri": "https://localhost:8080/"
        },
        "id": "ooT0Ia3Lror9",
        "outputId": "0a2ce248-e0ec-4a5e-b975-c61bd092c948"
      },
      "execution_count": 120,
      "outputs": [
        {
          "output_type": "stream",
          "name": "stdout",
          "text": [
            "WARNING:tensorflow:Layer gru_4 will not use cuDNN kernels since it doesn't meet the criteria. It will use a generic GPU kernel as fallback when running on GPU.\n"
          ]
        }
      ]
    },
    {
      "cell_type": "code",
      "source": [
        "emotion.compiler()"
      ],
      "metadata": {
        "id": "l0GVniwDTfOi"
      },
      "execution_count": 121,
      "outputs": []
    },
    {
      "cell_type": "code",
      "source": [
        "emotion.m.summary()"
      ],
      "metadata": {
        "colab": {
          "base_uri": "https://localhost:8080/"
        },
        "id": "IktgYRNWBdd6",
        "outputId": "7d0e0696-1bb5-4cf5-8a51-19d0e2390529"
      },
      "execution_count": 122,
      "outputs": [
        {
          "output_type": "stream",
          "name": "stdout",
          "text": [
            "Model: \"sequential_4\"\n",
            "_________________________________________________________________\n",
            " Layer (type)                Output Shape              Param #   \n",
            "=================================================================\n",
            " embedding_4 (Embedding)     (None, 63, 300)           5129100   \n",
            "                                                                 \n",
            " gru_4 (GRU)                 (None, 128)               165120    \n",
            "                                                                 \n",
            " dense_4 (Dense)             (None, 6)                 774       \n",
            "                                                                 \n",
            "=================================================================\n",
            "Total params: 5,294,994\n",
            "Trainable params: 165,894\n",
            "Non-trainable params: 5,129,100\n",
            "_________________________________________________________________\n"
          ]
        }
      ]
    },
    {
      "cell_type": "code",
      "source": [
        "emotion.fit()"
      ],
      "metadata": {
        "colab": {
          "base_uri": "https://localhost:8080/"
        },
        "id": "PHpg5OqJBpqQ",
        "outputId": "e1355567-ebb8-4fe2-9d27-8b63787981bb"
      },
      "execution_count": 123,
      "outputs": [
        {
          "output_type": "stream",
          "name": "stdout",
          "text": [
            "Epoch 1/120\n",
            "71/71 [==============================] - 11s 126ms/step - loss: 1.3380 - accuracy: 0.4964\n",
            "Epoch 2/120\n",
            "71/71 [==============================] - 9s 125ms/step - loss: 0.7510 - accuracy: 0.7426\n",
            "Epoch 3/120\n",
            "71/71 [==============================] - 9s 125ms/step - loss: 0.4233 - accuracy: 0.8558\n",
            "Epoch 4/120\n",
            "71/71 [==============================] - 9s 126ms/step - loss: 0.2835 - accuracy: 0.8967\n",
            "Epoch 5/120\n",
            "71/71 [==============================] - 9s 124ms/step - loss: 0.2197 - accuracy: 0.9179\n",
            "Epoch 6/120\n",
            "71/71 [==============================] - 9s 125ms/step - loss: 0.1774 - accuracy: 0.9302\n",
            "Epoch 7/120\n",
            "71/71 [==============================] - 9s 125ms/step - loss: 0.1548 - accuracy: 0.9374\n",
            "Epoch 8/120\n",
            "71/71 [==============================] - 9s 125ms/step - loss: 0.1330 - accuracy: 0.9443\n",
            "Epoch 9/120\n",
            "71/71 [==============================] - 9s 125ms/step - loss: 0.1200 - accuracy: 0.9500\n",
            "Epoch 10/120\n",
            "71/71 [==============================] - 9s 127ms/step - loss: 0.1091 - accuracy: 0.9556\n",
            "Epoch 11/120\n",
            "71/71 [==============================] - 9s 125ms/step - loss: 0.0999 - accuracy: 0.9584\n",
            "Epoch 12/120\n",
            "71/71 [==============================] - 9s 124ms/step - loss: 0.0941 - accuracy: 0.9601\n",
            "Epoch 13/120\n",
            "71/71 [==============================] - 9s 125ms/step - loss: 0.0886 - accuracy: 0.9643\n",
            "Epoch 14/120\n",
            "71/71 [==============================] - 9s 127ms/step - loss: 0.0784 - accuracy: 0.9690\n",
            "Epoch 15/120\n",
            "71/71 [==============================] - 9s 127ms/step - loss: 0.0752 - accuracy: 0.9708\n",
            "Epoch 16/120\n",
            "71/71 [==============================] - 9s 126ms/step - loss: 0.0704 - accuracy: 0.9712\n",
            "Epoch 17/120\n",
            "71/71 [==============================] - 9s 127ms/step - loss: 0.0698 - accuracy: 0.9726\n",
            "Epoch 18/120\n",
            "71/71 [==============================] - 9s 125ms/step - loss: 0.0626 - accuracy: 0.9771\n",
            "Epoch 19/120\n",
            "71/71 [==============================] - 9s 125ms/step - loss: 0.0577 - accuracy: 0.9800\n",
            "Epoch 20/120\n",
            "71/71 [==============================] - 9s 124ms/step - loss: 0.0542 - accuracy: 0.9802\n",
            "Epoch 21/120\n",
            "71/71 [==============================] - 9s 125ms/step - loss: 0.0515 - accuracy: 0.9824\n",
            "Epoch 22/120\n",
            "71/71 [==============================] - 9s 123ms/step - loss: 0.0486 - accuracy: 0.9817\n",
            "Epoch 23/120\n",
            "71/71 [==============================] - 9s 124ms/step - loss: 0.0454 - accuracy: 0.9848\n",
            "Epoch 24/120\n",
            "71/71 [==============================] - 9s 124ms/step - loss: 0.0441 - accuracy: 0.9851\n",
            "Epoch 25/120\n",
            "71/71 [==============================] - 9s 123ms/step - loss: 0.0428 - accuracy: 0.9865\n",
            "Epoch 26/120\n",
            "71/71 [==============================] - 9s 126ms/step - loss: 0.0398 - accuracy: 0.9872\n",
            "Epoch 27/120\n",
            "71/71 [==============================] - 9s 125ms/step - loss: 0.0373 - accuracy: 0.9876\n",
            "Epoch 28/120\n",
            "71/71 [==============================] - 9s 123ms/step - loss: 0.0344 - accuracy: 0.9893\n",
            "Epoch 29/120\n",
            "71/71 [==============================] - 9s 123ms/step - loss: 0.0320 - accuracy: 0.9897\n",
            "Epoch 30/120\n",
            "71/71 [==============================] - 9s 129ms/step - loss: 0.0323 - accuracy: 0.9903\n",
            "Epoch 31/120\n",
            "71/71 [==============================] - 9s 124ms/step - loss: 0.0299 - accuracy: 0.9916\n",
            "Epoch 32/120\n",
            "71/71 [==============================] - 9s 124ms/step - loss: 0.0281 - accuracy: 0.9917\n",
            "Epoch 33/120\n",
            "71/71 [==============================] - 9s 125ms/step - loss: 0.0296 - accuracy: 0.9915\n",
            "Epoch 34/120\n",
            "71/71 [==============================] - 9s 124ms/step - loss: 0.0306 - accuracy: 0.9912\n",
            "Epoch 35/120\n",
            "71/71 [==============================] - 9s 124ms/step - loss: 0.0264 - accuracy: 0.9929\n",
            "Epoch 36/120\n",
            "71/71 [==============================] - 9s 124ms/step - loss: 0.0252 - accuracy: 0.9933\n",
            "Epoch 37/120\n",
            "71/71 [==============================] - 9s 125ms/step - loss: 0.0243 - accuracy: 0.9928\n",
            "Epoch 38/120\n",
            "71/71 [==============================] - 9s 125ms/step - loss: 0.0221 - accuracy: 0.9944\n",
            "Epoch 39/120\n",
            "71/71 [==============================] - 9s 125ms/step - loss: 0.0236 - accuracy: 0.9938\n",
            "Epoch 40/120\n",
            "71/71 [==============================] - 9s 125ms/step - loss: 0.0214 - accuracy: 0.9942\n",
            "Epoch 41/120\n",
            "71/71 [==============================] - 9s 126ms/step - loss: 0.0202 - accuracy: 0.9947\n",
            "Epoch 42/120\n",
            "71/71 [==============================] - 9s 124ms/step - loss: 0.0201 - accuracy: 0.9950\n",
            "Epoch 43/120\n",
            "71/71 [==============================] - 9s 124ms/step - loss: 0.0220 - accuracy: 0.9940\n",
            "Epoch 44/120\n",
            "71/71 [==============================] - 9s 126ms/step - loss: 0.0225 - accuracy: 0.9942\n",
            "Epoch 45/120\n",
            "71/71 [==============================] - 9s 124ms/step - loss: 0.0201 - accuracy: 0.9951\n",
            "Epoch 46/120\n",
            "71/71 [==============================] - 9s 124ms/step - loss: 0.0203 - accuracy: 0.9945\n",
            "Epoch 47/120\n",
            "71/71 [==============================] - 9s 125ms/step - loss: 0.0172 - accuracy: 0.9957\n",
            "Epoch 48/120\n",
            "71/71 [==============================] - 9s 125ms/step - loss: 0.0205 - accuracy: 0.9942\n",
            "Epoch 49/120\n",
            "71/71 [==============================] - 9s 128ms/step - loss: 0.0196 - accuracy: 0.9947\n",
            "Epoch 50/120\n",
            "71/71 [==============================] - 9s 126ms/step - loss: 0.0183 - accuracy: 0.9953\n",
            "Epoch 51/120\n",
            "71/71 [==============================] - 9s 124ms/step - loss: 0.0178 - accuracy: 0.9958\n",
            "Epoch 52/120\n",
            "71/71 [==============================] - 9s 124ms/step - loss: 0.0163 - accuracy: 0.9963\n",
            "Epoch 53/120\n",
            "71/71 [==============================] - 9s 124ms/step - loss: 0.0175 - accuracy: 0.9956\n",
            "Epoch 54/120\n",
            "71/71 [==============================] - 9s 125ms/step - loss: 0.0169 - accuracy: 0.9953\n",
            "Epoch 55/120\n",
            "71/71 [==============================] - 9s 125ms/step - loss: 0.0159 - accuracy: 0.9957\n",
            "Epoch 56/120\n",
            "71/71 [==============================] - 9s 125ms/step - loss: 0.0144 - accuracy: 0.9965\n",
            "Epoch 57/120\n",
            "71/71 [==============================] - 9s 125ms/step - loss: 0.0159 - accuracy: 0.9968\n",
            "Epoch 58/120\n",
            "71/71 [==============================] - 9s 126ms/step - loss: 0.0153 - accuracy: 0.9961\n",
            "Epoch 59/120\n",
            "71/71 [==============================] - 9s 124ms/step - loss: 0.0146 - accuracy: 0.9963\n",
            "Epoch 60/120\n",
            "71/71 [==============================] - 9s 124ms/step - loss: 0.0150 - accuracy: 0.9961\n",
            "Epoch 61/120\n",
            "71/71 [==============================] - 9s 126ms/step - loss: 0.0150 - accuracy: 0.9963\n",
            "Epoch 62/120\n",
            "71/71 [==============================] - 9s 125ms/step - loss: 0.0142 - accuracy: 0.9966\n",
            "Epoch 63/120\n",
            "71/71 [==============================] - 9s 125ms/step - loss: 0.0135 - accuracy: 0.9971\n",
            "Epoch 64/120\n",
            "71/71 [==============================] - 9s 125ms/step - loss: 0.0136 - accuracy: 0.9969\n",
            "Epoch 65/120\n",
            "71/71 [==============================] - 9s 125ms/step - loss: 0.0132 - accuracy: 0.9969\n",
            "Epoch 66/120\n",
            "71/71 [==============================] - 9s 124ms/step - loss: 0.0141 - accuracy: 0.9966\n",
            "Epoch 67/120\n",
            "71/71 [==============================] - 9s 126ms/step - loss: 0.0156 - accuracy: 0.9966\n",
            "Epoch 68/120\n",
            "71/71 [==============================] - 9s 125ms/step - loss: 0.0142 - accuracy: 0.9966\n",
            "Epoch 69/120\n",
            "71/71 [==============================] - 9s 124ms/step - loss: 0.0134 - accuracy: 0.9967\n",
            "Epoch 70/120\n",
            "71/71 [==============================] - 9s 125ms/step - loss: 0.0125 - accuracy: 0.9971\n",
            "Epoch 71/120\n",
            "71/71 [==============================] - 9s 124ms/step - loss: 0.0160 - accuracy: 0.9961\n",
            "Epoch 72/120\n",
            "71/71 [==============================] - 9s 125ms/step - loss: 0.0132 - accuracy: 0.9967\n",
            "Epoch 73/120\n",
            "71/71 [==============================] - 9s 124ms/step - loss: 0.0146 - accuracy: 0.9958\n",
            "Epoch 74/120\n",
            "71/71 [==============================] - 9s 125ms/step - loss: 0.0123 - accuracy: 0.9972\n",
            "Epoch 75/120\n",
            "71/71 [==============================] - 9s 125ms/step - loss: 0.0132 - accuracy: 0.9967\n",
            "Epoch 76/120\n",
            "71/71 [==============================] - 9s 126ms/step - loss: 0.0126 - accuracy: 0.9969\n",
            "Epoch 77/120\n",
            "71/71 [==============================] - 9s 124ms/step - loss: 0.0119 - accuracy: 0.9972\n",
            "Epoch 78/120\n",
            "71/71 [==============================] - 9s 126ms/step - loss: 0.0121 - accuracy: 0.9968\n",
            "Epoch 79/120\n",
            "71/71 [==============================] - 9s 125ms/step - loss: 0.0116 - accuracy: 0.9969\n",
            "Epoch 80/120\n",
            "71/71 [==============================] - 9s 124ms/step - loss: 0.0118 - accuracy: 0.9971\n",
            "Epoch 81/120\n",
            "71/71 [==============================] - 9s 125ms/step - loss: 0.0119 - accuracy: 0.9971\n",
            "Epoch 82/120\n",
            "71/71 [==============================] - 9s 124ms/step - loss: 0.0105 - accuracy: 0.9977\n",
            "Epoch 83/120\n",
            "71/71 [==============================] - 9s 126ms/step - loss: 0.0119 - accuracy: 0.9971\n",
            "Epoch 84/120\n",
            "71/71 [==============================] - 9s 127ms/step - loss: 0.0119 - accuracy: 0.9968\n",
            "Epoch 85/120\n",
            "71/71 [==============================] - 9s 128ms/step - loss: 0.0112 - accuracy: 0.9974\n",
            "Epoch 86/120\n",
            "71/71 [==============================] - 9s 126ms/step - loss: 0.0116 - accuracy: 0.9969\n",
            "Epoch 87/120\n",
            "71/71 [==============================] - 9s 124ms/step - loss: 0.0128 - accuracy: 0.9969\n",
            "Epoch 88/120\n",
            "71/71 [==============================] - 9s 124ms/step - loss: 0.0117 - accuracy: 0.9973\n",
            "Epoch 89/120\n",
            "71/71 [==============================] - 9s 124ms/step - loss: 0.0146 - accuracy: 0.9966\n",
            "Epoch 90/120\n",
            "71/71 [==============================] - 9s 123ms/step - loss: 0.0146 - accuracy: 0.9964\n",
            "Epoch 91/120\n",
            "71/71 [==============================] - 9s 123ms/step - loss: 0.0114 - accuracy: 0.9972\n",
            "Epoch 92/120\n",
            "71/71 [==============================] - 9s 124ms/step - loss: 0.0125 - accuracy: 0.9966\n",
            "Epoch 93/120\n",
            "71/71 [==============================] - 9s 125ms/step - loss: 0.0111 - accuracy: 0.9972\n",
            "Epoch 94/120\n",
            "71/71 [==============================] - 9s 125ms/step - loss: 0.0111 - accuracy: 0.9973\n",
            "Epoch 95/120\n",
            "71/71 [==============================] - 9s 124ms/step - loss: 0.0121 - accuracy: 0.9970\n",
            "Epoch 96/120\n",
            "71/71 [==============================] - 9s 125ms/step - loss: 0.0118 - accuracy: 0.9968\n",
            "Epoch 97/120\n",
            "71/71 [==============================] - 9s 124ms/step - loss: 0.0113 - accuracy: 0.9970\n",
            "Epoch 98/120\n",
            "71/71 [==============================] - 9s 126ms/step - loss: 0.0103 - accuracy: 0.9973\n",
            "Epoch 99/120\n",
            "71/71 [==============================] - 9s 124ms/step - loss: 0.0109 - accuracy: 0.9972\n",
            "Epoch 100/120\n",
            "71/71 [==============================] - 9s 124ms/step - loss: 0.0103 - accuracy: 0.9978\n",
            "Epoch 101/120\n",
            "71/71 [==============================] - 9s 125ms/step - loss: 0.0114 - accuracy: 0.9968\n",
            "Epoch 102/120\n",
            "71/71 [==============================] - 9s 124ms/step - loss: 0.0103 - accuracy: 0.9971\n",
            "Epoch 103/120\n",
            "71/71 [==============================] - 9s 125ms/step - loss: 0.0119 - accuracy: 0.9970\n",
            "Epoch 104/120\n",
            "71/71 [==============================] - 9s 125ms/step - loss: 0.0122 - accuracy: 0.9972\n",
            "Epoch 105/120\n",
            "71/71 [==============================] - 9s 125ms/step - loss: 0.0105 - accuracy: 0.9973\n",
            "Epoch 106/120\n",
            "71/71 [==============================] - 9s 125ms/step - loss: 0.0106 - accuracy: 0.9972\n",
            "Epoch 107/120\n",
            "71/71 [==============================] - 9s 124ms/step - loss: 0.0102 - accuracy: 0.9973\n",
            "Epoch 108/120\n",
            "71/71 [==============================] - 9s 124ms/step - loss: 0.0105 - accuracy: 0.9974\n",
            "Epoch 109/120\n",
            "71/71 [==============================] - 9s 124ms/step - loss: 0.0104 - accuracy: 0.9972\n",
            "Epoch 110/120\n",
            "71/71 [==============================] - 9s 124ms/step - loss: 0.0115 - accuracy: 0.9968\n",
            "Epoch 111/120\n",
            "71/71 [==============================] - 9s 126ms/step - loss: 0.0109 - accuracy: 0.9972\n",
            "Epoch 112/120\n",
            "71/71 [==============================] - 9s 125ms/step - loss: 0.0107 - accuracy: 0.9970\n",
            "Epoch 113/120\n",
            "71/71 [==============================] - 9s 126ms/step - loss: 0.0113 - accuracy: 0.9971\n",
            "Epoch 114/120\n",
            "71/71 [==============================] - 9s 125ms/step - loss: 0.0129 - accuracy: 0.9968\n",
            "Epoch 115/120\n",
            "71/71 [==============================] - 9s 125ms/step - loss: 0.0104 - accuracy: 0.9973\n",
            "Epoch 116/120\n",
            "71/71 [==============================] - 9s 124ms/step - loss: 0.0115 - accuracy: 0.9971\n",
            "Epoch 117/120\n",
            "71/71 [==============================] - 9s 124ms/step - loss: 0.0118 - accuracy: 0.9968\n",
            "Epoch 118/120\n",
            "71/71 [==============================] - 9s 124ms/step - loss: 0.0132 - accuracy: 0.9964\n",
            "Epoch 119/120\n",
            "71/71 [==============================] - 9s 127ms/step - loss: 0.0104 - accuracy: 0.9975\n",
            "Epoch 120/120\n",
            "71/71 [==============================] - 9s 127ms/step - loss: 0.0104 - accuracy: 0.9972\n"
          ]
        }
      ]
    },
    {
      "cell_type": "code",
      "source": [
        "import matplotlib.pyplot as plt\n",
        "mpl.style.use('seaborn')\n",
        "figure = plt.figure(figsize=(15, 4))\n",
        "plt.plot(emotion.history_training.history['accuracy'], 'darkorange', label = 'Accuracy')\n",
        "plt.title(\"Accuracywhile training\")\n",
        "plt.show()"
      ],
      "metadata": {
        "colab": {
          "base_uri": "https://localhost:8080/",
          "height": 280
        },
        "id": "84VnyiCkxM2O",
        "outputId": "b2a4c044-1920-431b-ed3f-5560e2055bec"
      },
      "execution_count": 161,
      "outputs": [
        {
          "output_type": "display_data",
          "data": {
            "text/plain": [
              "<Figure size 1080x288 with 1 Axes>"
            ],
            "image/png": "[encoded data removed]"
          },
          "metadata": {}
        }
      ]
    },
    {
      "cell_type": "code",
      "source": [
        "figure = plt.figure(figsize=(15, 4))\n",
        "plt.plot(emotion.history_training.history['loss'], 'darkblue', label = 'Loss')\n",
        "plt.title(\"Loss while training\")\n",
        "plt.show()"
      ],
      "metadata": {
        "colab": {
          "base_uri": "https://localhost:8080/",
          "height": 280
        },
        "id": "ngkfKyXyfVPN",
        "outputId": "ce085a6a-9529-4260-befe-fa2e4cbbe905"
      },
      "execution_count": 164,
      "outputs": [
        {
          "output_type": "display_data",
          "data": {
            "text/plain": [
              "<Figure size 1080x288 with 1 Axes>"
            ],
            "image/png": "[encoded data removed]"
          },
          "metadata": {}
        }
      ]
    },
    {
      "cell_type": "code",
      "source": [
        "emotion.m.evaluate(emotion.X_test, emotion.Y_test, batch_size = 256)"
      ],
      "metadata": {
        "colab": {
          "base_uri": "https://localhost:8080/"
        },
        "id": "AmCFN7YIgYsG",
        "outputId": "97883276-5b81-490b-a002-b6b0fbdd75fd"
      },
      "execution_count": 137,
      "outputs": [
        {
          "output_type": "stream",
          "name": "stdout",
          "text": [
            "8/8 [==============================] - 0s 15ms/step - loss: 0.3393 - accuracy: 0.9295\n"
          ]
        },
        {
          "output_type": "execute_result",
          "data": {
            "text/plain": [
              "[0.33934661746025085, 0.9294999837875366]"
            ]
          },
          "metadata": {},
          "execution_count": 137
        }
      ]
    },
    {
      "cell_type": "code",
      "source": [
        "y_pred = emotion.m.predict(emotion.X_test)"
      ],
      "metadata": {
        "id": "0L4SW7XTxfb2"
      },
      "execution_count": 127,
      "outputs": []
    },
    {
      "cell_type": "code",
      "source": [
        "y_pred = np.argmax(y_pred, axis = 1)"
      ],
      "metadata": {
        "id": "z-Bzg9rLy4TT"
      },
      "execution_count": 128,
      "outputs": []
    },
    {
      "cell_type": "code",
      "source": [
        "y_pred"
      ],
      "metadata": {
        "colab": {
          "base_uri": "https://localhost:8080/"
        },
        "id": "X6nixaqUy89r",
        "outputId": "2602c5dc-7d98-4010-e13c-ad133ab04042"
      },
      "execution_count": 129,
      "outputs": [
        {
          "output_type": "execute_result",
          "data": {
            "text/plain": [
              "array([0, 4, 2, ..., 2, 2, 3])"
            ]
          },
          "metadata": {},
          "execution_count": 129
        }
      ]
    },
    {
      "cell_type": "code",
      "source": [
        "y_test = np.argmax(emotion.Y_test, axis = 1)"
      ],
      "metadata": {
        "id": "AUkw2x0ezAKS"
      },
      "execution_count": 130,
      "outputs": []
    },
    {
      "cell_type": "code",
      "source": [
        "y_test"
      ],
      "metadata": {
        "colab": {
          "base_uri": "https://localhost:8080/"
        },
        "id": "9LUXLYXxzKQq",
        "outputId": "ede919dc-34f1-4dcd-a287-14ce084cd732"
      },
      "execution_count": 131,
      "outputs": [
        {
          "output_type": "execute_result",
          "data": {
            "text/plain": [
              "array([0, 4, 2, ..., 2, 5, 3])"
            ]
          },
          "metadata": {},
          "execution_count": 131
        }
      ]
    },
    {
      "cell_type": "code",
      "source": [
        "from sklearn.metrics import accuracy_score as acc\n",
        "print(acc(y_pred, y_test))"
      ],
      "metadata": {
        "colab": {
          "base_uri": "https://localhost:8080/"
        },
        "id": "qKhpVX5TzRwM",
        "outputId": "fa50701c-3392-44b0-8862-5bf532d41428"
      },
      "execution_count": 132,
      "outputs": [
        {
          "output_type": "stream",
          "name": "stdout",
          "text": [
            "0.9295\n"
          ]
        }
      ]
    },
    {
      "cell_type": "code",
      "source": [
        "res = tf.math.confusion_matrix(y_pred,y_test).numpy()"
      ],
      "metadata": {
        "id": "2MHH5qrIh0P-"
      },
      "execution_count": 138,
      "outputs": []
    },
    {
      "cell_type": "code",
      "source": [
        "cm = pd.DataFrame(res,\n",
        "                     index = ['sadness', 'anger', 'love', 'surprise', 'fear', 'joy'], \n",
        "                     columns = ['sadness', 'anger', 'love', 'surprise', 'fear', 'joy'])\n",
        "cm"
      ],
      "metadata": {
        "colab": {
          "base_uri": "https://localhost:8080/",
          "height": 238
        },
        "id": "FbZ0pOpGh57L",
        "outputId": "ed23220f-f9b5-4535-d7d8-20b06acc758f"
      },
      "execution_count": 139,
      "outputs": [
        {
          "output_type": "execute_result",
          "data": {
            "text/plain": [
              "          sadness  anger  love  surprise  fear  joy\n",
              "sadness       232     11     1         0     4    0\n",
              "anger           4    237     1         0     6   11\n",
              "love            1      1   634        25     4    3\n",
              "surprise        1      0    35       148     0    0\n",
              "fear            5     10     3         0   549    2\n",
              "joy             0      7     6         0     0   59"
            ],
            "text/html": [
              "\n",
              "  <div id=\"df-f8a53200-736d-4dca-aedb-de835f8bf749\">\n",
              "    <div class=\"colab-df-container\">\n",
              "      <div>\n",
              "<style scoped>\n",
              "    .dataframe tbody tr th:only-of-type {\n",
              "        vertical-align: middle;\n",
              "    }\n",
              "\n",
              "    .dataframe tbody tr th {\n",
              "        vertical-align: top;\n",
              "    }\n",
              "\n",
              "    .dataframe thead th {\n",
              "        text-align: right;\n",
              "    }\n",
              "</style>\n",
              "<table border=\"1\" class=\"dataframe\">\n",
              "  <thead>\n",
              "    <tr style=\"text-align: right;\">\n",
              "      <th></th>\n",
              "      <th>sadness</th>\n",
              "      <th>anger</th>\n",
              "      <th>love</th>\n",
              "      <th>surprise</th>\n",
              "      <th>fear</th>\n",
              "      <th>joy</th>\n",
              "    </tr>\n",
              "  </thead>\n",
              "  <tbody>\n",
              "    <tr>\n",
              "      <th>sadness</th>\n",
              "      <td>232</td>\n",
              "      <td>11</td>\n",
              "      <td>1</td>\n",
              "      <td>0</td>\n",
              "      <td>4</td>\n",
              "      <td>0</td>\n",
              "    </tr>\n",
              "    <tr>\n",
              "      <th>anger</th>\n",
              "      <td>4</td>\n",
              "      <td>237</td>\n",
              "      <td>1</td>\n",
              "      <td>0</td>\n",
              "      <td>6</td>\n",
              "      <td>11</td>\n",
              "    </tr>\n",
              "    <tr>\n",
              "      <th>love</th>\n",
              "      <td>1</td>\n",
              "      <td>1</td>\n",
              "      <td>634</td>\n",
              "      <td>25</td>\n",
              "      <td>4</td>\n",
              "      <td>3</td>\n",
              "    </tr>\n",
              "    <tr>\n",
              "      <th>surprise</th>\n",
              "      <td>1</td>\n",
              "      <td>0</td>\n",
              "      <td>35</td>\n",
              "      <td>148</td>\n",
              "      <td>0</td>\n",
              "      <td>0</td>\n",
              "    </tr>\n",
              "    <tr>\n",
              "      <th>fear</th>\n",
              "      <td>5</td>\n",
              "      <td>10</td>\n",
              "      <td>3</td>\n",
              "      <td>0</td>\n",
              "      <td>549</td>\n",
              "      <td>2</td>\n",
              "    </tr>\n",
              "    <tr>\n",
              "      <th>joy</th>\n",
              "      <td>0</td>\n",
              "      <td>7</td>\n",
              "      <td>6</td>\n",
              "      <td>0</td>\n",
              "      <td>0</td>\n",
              "      <td>59</td>\n",
              "    </tr>\n",
              "  </tbody>\n",
              "</table>\n",
              "</div>\n",
              "      <button class=\"colab-df-convert\" onclick=\"convertToInteractive('df-f8a53200-736d-4dca-aedb-de835f8bf749')\"\n",
              "              title=\"Convert this dataframe to an interactive table.\"\n",
              "              style=\"display:none;\">\n",
              "        \n",
              "  <svg xmlns=\"http://www.w3.org/2000/svg\" height=\"24px\"viewBox=\"0 0 24 24\"\n",
              "       width=\"24px\">\n",
              "    <path d=\"M0 0h24v24H0V0z\" fill=\"none\"/>\n",
              "    <path d=\"M18.56 5.44l.94 2.06.94-2.06 2.06-.94-2.06-.94-.94-2.06-.94 2.06-2.06.94zm-11 1L8.5 8.5l.94-2.06 2.06-.94-2.06-.94L8.5 2.5l-.94 2.06-2.06.94zm10 10l.94 2.06.94-2.06 2.06-.94-2.06-.94-.94-2.06-.94 2.06-2.06.94z\"/><path d=\"M17.41 7.96l-1.37-1.37c-.4-.4-.92-.59-1.43-.59-.52 0-1.04.2-1.43.59L10.3 9.45l-7.72 7.72c-.78.78-.78 2.05 0 2.83L4 21.41c.39.39.9.59 1.41.59.51 0 1.02-.2 1.41-.59l7.78-7.78 2.81-2.81c.8-.78.8-2.07 0-2.86zM5.41 20L4 18.59l7.72-7.72 1.47 1.35L5.41 20z\"/>\n",
              "  </svg>\n",
              "      </button>\n",
              "      \n",
              "  <style>\n",
              "    .colab-df-container {\n",
              "      display:flex;\n",
              "      flex-wrap:wrap;\n",
              "      gap: 12px;\n",
              "    }\n",
              "\n",
              "    .colab-df-convert {\n",
              "      background-color: #E8F0FE;\n",
              "      border: none;\n",
              "      border-radius: 50%;\n",
              "      cursor: pointer;\n",
              "      display: none;\n",
              "      fill: #1967D2;\n",
              "      height: 32px;\n",
              "      padding: 0 0 0 0;\n",
              "      width: 32px;\n",
              "    }\n",
              "\n",
              "    .colab-df-convert:hover {\n",
              "      background-color: #E2EBFA;\n",
              "      box-shadow: 0px 1px 2px rgba(60, 64, 67, 0.3), 0px 1px 3px 1px rgba(60, 64, 67, 0.15);\n",
              "      fill: #174EA6;\n",
              "    }\n",
              "\n",
              "    [theme=dark] .colab-df-convert {\n",
              "      background-color: #3B4455;\n",
              "      fill: #D2E3FC;\n",
              "    }\n",
              "\n",
              "    [theme=dark] .colab-df-convert:hover {\n",
              "      background-color: #434B5C;\n",
              "      box-shadow: 0px 1px 3px 1px rgba(0, 0, 0, 0.15);\n",
              "      filter: drop-shadow(0px 1px 2px rgba(0, 0, 0, 0.3));\n",
              "      fill: #FFFFFF;\n",
              "    }\n",
              "  </style>\n",
              "\n",
              "      <script>\n",
              "        const buttonEl =\n",
              "          document.querySelector('#df-f8a53200-736d-4dca-aedb-de835f8bf749 button.colab-df-convert');\n",
              "        buttonEl.style.display =\n",
              "          google.colab.kernel.accessAllowed ? 'block' : 'none';\n",
              "\n",
              "        async function convertToInteractive(key) {\n",
              "          const element = document.querySelector('#df-f8a53200-736d-4dca-aedb-de835f8bf749');\n",
              "          const dataTable =\n",
              "            await google.colab.kernel.invokeFunction('convertToInteractive',\n",
              "                                                     [key], {});\n",
              "          if (!dataTable) return;\n",
              "\n",
              "          const docLinkHtml = 'Like what you see? Visit the ' +\n",
              "            '<a target=\"_blank\" href=https://colab.research.google.com/notebooks/data_table.ipynb>data table notebook</a>'\n",
              "            + ' to learn more about interactive tables.';\n",
              "          element.innerHTML = '';\n",
              "          dataTable['output_type'] = 'display_data';\n",
              "          await google.colab.output.renderOutput(dataTable, element);\n",
              "          const docLink = document.createElement('div');\n",
              "          docLink.innerHTML = docLinkHtml;\n",
              "          element.appendChild(docLink);\n",
              "        }\n",
              "      </script>\n",
              "    </div>\n",
              "  </div>\n",
              "  "
            ]
          },
          "metadata": {},
          "execution_count": 139
        }
      ]
    },
    {
      "cell_type": "code",
      "source": [
        "import seaborn as sns\n",
        "figure = plt.figure(figsize=(7, 7))\n",
        "sns.heatmap(cm, annot=True, cmap=plt.cm.Blues)\n",
        "plt.ylabel('True label')\n",
        "plt.xlabel('Predicted label')\n",
        "plt.show()"
      ],
      "metadata": {
        "colab": {
          "base_uri": "https://localhost:8080/",
          "height": 442
        },
        "id": "_q6oYtSmiI7Z",
        "outputId": "f3731b71-5429-42f8-9326-0b6b8589e53b"
      },
      "execution_count": 148,
      "outputs": [
        {
          "output_type": "display_data",
          "data": {
            "text/plain": [
              "<Figure size 504x504 with 2 Axes>"
            ],
            "image/png": "[encoded data removed]"
          },
          "metadata": {
            "needs_background": "light"
          }
        }
      ]
    },
    {
      "cell_type": "code",
      "source": [
        "emotion.m.save(\"emotion.h5\")"
      ],
      "metadata": {
        "id": "JjNZhv6clyGi"
      },
      "execution_count": 165,
      "outputs": []
    },
    {
      "cell_type": "markdown",
      "source": [
        "#Second Step:\n",
        "Using the model that has been trained to sort tweets based on sentiment with a rating ratio."
      ],
      "metadata": {
        "id": "j7eOTMJlma4y"
      }
    },
    {
      "cell_type": "code",
      "source": [
        "SriLankaTweets = \"twitter-dataset-sri-lanka-crisis/SriLankaTweets.csv\""
      ],
      "metadata": {
        "id": "7UahrijBm5lP"
      },
      "execution_count": 168,
      "outputs": []
    },
    {
      "cell_type": "code",
      "source": [
        "SriLankaTweets = pd.read_csv(SriLankaTweets)"
      ],
      "metadata": {
        "id": "w0YOpknDsfpN"
      },
      "execution_count": 169,
      "outputs": []
    },
    {
      "cell_type": "code",
      "source": [
        "SriLankaTweets.head()"
      ],
      "metadata": {
        "colab": {
          "base_uri": "https://localhost:8080/",
          "height": 525
        },
        "id": "mf8b6U-5szu9",
        "outputId": "f8ab68b2-e4c2-4936-9ef1-303180c7250b"
      },
      "execution_count": 170,
      "outputs": [
        {
          "output_type": "execute_result",
          "data": {
            "text/plain": [
              "   Unnamed: 0                   id      conversation_id    created_at  \\\n",
              "0           0  1546235784730230785  1546089912042127362  1.657486e+12   \n",
              "1           1  1546235779906781186  1546235779906781186  1.657486e+12   \n",
              "2           2  1546235777633468416  1546235777633468416  1.657486e+12   \n",
              "3           3  1546235770582847496  1546185673593524225  1.657486e+12   \n",
              "4           4  1546235754342498308  1546235754342498308  1.657486e+12   \n",
              "\n",
              "                  date  timezone place  \\\n",
              "0  2022-07-10 20:51:53         0   NaN   \n",
              "1  2022-07-10 20:51:52         0   NaN   \n",
              "2  2022-07-10 20:51:51         0   NaN   \n",
              "3  2022-07-10 20:51:50         0   NaN   \n",
              "4  2022-07-10 20:51:46         0   NaN   \n",
              "\n",
              "                                               tweet language hashtags  ...  \\\n",
              "0  @MrJonasDanner Das geht doch seit Beginn der B...       de       []  ...   \n",
              "1  Artículo lúcido y bien informado sobre la cris...       es       []  ...   \n",
              "2  En argentina y después de lo de Sri Lanka la g...       es       []  ...   \n",
              "3  @Haqeeqat_TV Ab na daro aur sikho  in Sri lank...       hi       []  ...   \n",
              "4  Resigned or Arrested?  1. Sri Lanka's presiden...       et       []  ...   \n",
              "\n",
              "  geo  source  user_rt_id user_rt retweet_id  \\\n",
              "0 NaN     NaN         NaN     NaN        NaN   \n",
              "1 NaN     NaN         NaN     NaN        NaN   \n",
              "2 NaN     NaN         NaN     NaN        NaN   \n",
              "3 NaN     NaN         NaN     NaN        NaN   \n",
              "4 NaN     NaN         NaN     NaN        NaN   \n",
              "\n",
              "                                            reply_to  retweet_date translate  \\\n",
              "0  [{'screen_name': 'MrJonasDanner', 'name': 'Jon...           NaN       NaN   \n",
              "1                                                 []           NaN       NaN   \n",
              "2                                                 []           NaN       NaN   \n",
              "3  [{'screen_name': 'Haqeeqat_TV', 'name': 'Haqee...           NaN       NaN   \n",
              "4                                                 []           NaN       NaN   \n",
              "\n",
              "  trans_src trans_dest  \n",
              "0       NaN        NaN  \n",
              "1       NaN        NaN  \n",
              "2       NaN        NaN  \n",
              "3       NaN        NaN  \n",
              "4       NaN        NaN  \n",
              "\n",
              "[5 rows x 39 columns]"
            ],
            "text/html": [
              "\n",
              "  <div id=\"df-fed03cff-53f0-4a8a-91c2-9b4d2cd7795a\">\n",
              "    <div class=\"colab-df-container\">\n",
              "      <div>\n",
              "<style scoped>\n",
              "    .dataframe tbody tr th:only-of-type {\n",
              "        vertical-align: middle;\n",
              "    }\n",
              "\n",
              "    .dataframe tbody tr th {\n",
              "        vertical-align: top;\n",
              "    }\n",
              "\n",
              "    .dataframe thead th {\n",
              "        text-align: right;\n",
              "    }\n",
              "</style>\n",
              "<table border=\"1\" class=\"dataframe\">\n",
              "  <thead>\n",
              "    <tr style=\"text-align: right;\">\n",
              "      <th></th>\n",
              "      <th>Unnamed: 0</th>\n",
              "      <th>id</th>\n",
              "      <th>conversation_id</th>\n",
              "      <th>created_at</th>\n",
              "      <th>date</th>\n",
              "      <th>timezone</th>\n",
              "      <th>place</th>\n",
              "      <th>tweet</th>\n",
              "      <th>language</th>\n",
              "      <th>hashtags</th>\n",
              "      <th>...</th>\n",
              "      <th>geo</th>\n",
              "      <th>source</th>\n",
              "      <th>user_rt_id</th>\n",
              "      <th>user_rt</th>\n",
              "      <th>retweet_id</th>\n",
              "      <th>reply_to</th>\n",
              "      <th>retweet_date</th>\n",
              "      <th>translate</th>\n",
              "      <th>trans_src</th>\n",
              "      <th>trans_dest</th>\n",
              "    </tr>\n",
              "  </thead>\n",
              "  <tbody>\n",
              "    <tr>\n",
              "      <th>0</th>\n",
              "      <td>0</td>\n",
              "      <td>1546235784730230785</td>\n",
              "      <td>1546089912042127362</td>\n",
              "      <td>1.657486e+12</td>\n",
              "      <td>2022-07-10 20:51:53</td>\n",
              "      <td>0</td>\n",
              "      <td>NaN</td>\n",
              "      <td>@MrJonasDanner Das geht doch seit Beginn der B...</td>\n",
              "      <td>de</td>\n",
              "      <td>[]</td>\n",
              "      <td>...</td>\n",
              "      <td>NaN</td>\n",
              "      <td>NaN</td>\n",
              "      <td>NaN</td>\n",
              "      <td>NaN</td>\n",
              "      <td>NaN</td>\n",
              "      <td>[{'screen_name': 'MrJonasDanner', 'name': 'Jon...</td>\n",
              "      <td>NaN</td>\n",
              "      <td>NaN</td>\n",
              "      <td>NaN</td>\n",
              "      <td>NaN</td>\n",
              "    </tr>\n",
              "    <tr>\n",
              "      <th>1</th>\n",
              "      <td>1</td>\n",
              "      <td>1546235779906781186</td>\n",
              "      <td>1546235779906781186</td>\n",
              "      <td>1.657486e+12</td>\n",
              "      <td>2022-07-10 20:51:52</td>\n",
              "      <td>0</td>\n",
              "      <td>NaN</td>\n",
              "      <td>Artículo lúcido y bien informado sobre la cris...</td>\n",
              "      <td>es</td>\n",
              "      <td>[]</td>\n",
              "      <td>...</td>\n",
              "      <td>NaN</td>\n",
              "      <td>NaN</td>\n",
              "      <td>NaN</td>\n",
              "      <td>NaN</td>\n",
              "      <td>NaN</td>\n",
              "      <td>[]</td>\n",
              "      <td>NaN</td>\n",
              "      <td>NaN</td>\n",
              "      <td>NaN</td>\n",
              "      <td>NaN</td>\n",
              "    </tr>\n",
              "    <tr>\n",
              "      <th>2</th>\n",
              "      <td>2</td>\n",
              "      <td>1546235777633468416</td>\n",
              "      <td>1546235777633468416</td>\n",
              "      <td>1.657486e+12</td>\n",
              "      <td>2022-07-10 20:51:51</td>\n",
              "      <td>0</td>\n",
              "      <td>NaN</td>\n",
              "      <td>En argentina y después de lo de Sri Lanka la g...</td>\n",
              "      <td>es</td>\n",
              "      <td>[]</td>\n",
              "      <td>...</td>\n",
              "      <td>NaN</td>\n",
              "      <td>NaN</td>\n",
              "      <td>NaN</td>\n",
              "      <td>NaN</td>\n",
              "      <td>NaN</td>\n",
              "      <td>[]</td>\n",
              "      <td>NaN</td>\n",
              "      <td>NaN</td>\n",
              "      <td>NaN</td>\n",
              "      <td>NaN</td>\n",
              "    </tr>\n",
              "    <tr>\n",
              "      <th>3</th>\n",
              "      <td>3</td>\n",
              "      <td>1546235770582847496</td>\n",
              "      <td>1546185673593524225</td>\n",
              "      <td>1.657486e+12</td>\n",
              "      <td>2022-07-10 20:51:50</td>\n",
              "      <td>0</td>\n",
              "      <td>NaN</td>\n",
              "      <td>@Haqeeqat_TV Ab na daro aur sikho  in Sri lank...</td>\n",
              "      <td>hi</td>\n",
              "      <td>[]</td>\n",
              "      <td>...</td>\n",
              "      <td>NaN</td>\n",
              "      <td>NaN</td>\n",
              "      <td>NaN</td>\n",
              "      <td>NaN</td>\n",
              "      <td>NaN</td>\n",
              "      <td>[{'screen_name': 'Haqeeqat_TV', 'name': 'Haqee...</td>\n",
              "      <td>NaN</td>\n",
              "      <td>NaN</td>\n",
              "      <td>NaN</td>\n",
              "      <td>NaN</td>\n",
              "    </tr>\n",
              "    <tr>\n",
              "      <th>4</th>\n",
              "      <td>4</td>\n",
              "      <td>1546235754342498308</td>\n",
              "      <td>1546235754342498308</td>\n",
              "      <td>1.657486e+12</td>\n",
              "      <td>2022-07-10 20:51:46</td>\n",
              "      <td>0</td>\n",
              "      <td>NaN</td>\n",
              "      <td>Resigned or Arrested?  1. Sri Lanka's presiden...</td>\n",
              "      <td>et</td>\n",
              "      <td>[]</td>\n",
              "      <td>...</td>\n",
              "      <td>NaN</td>\n",
              "      <td>NaN</td>\n",
              "      <td>NaN</td>\n",
              "      <td>NaN</td>\n",
              "      <td>NaN</td>\n",
              "      <td>[]</td>\n",
              "      <td>NaN</td>\n",
              "      <td>NaN</td>\n",
              "      <td>NaN</td>\n",
              "      <td>NaN</td>\n",
              "    </tr>\n",
              "  </tbody>\n",
              "</table>\n",
              "<p>5 rows × 39 columns</p>\n",
              "</div>\n",
              "      <button class=\"colab-df-convert\" onclick=\"convertToInteractive('df-fed03cff-53f0-4a8a-91c2-9b4d2cd7795a')\"\n",
              "              title=\"Convert this dataframe to an interactive table.\"\n",
              "              style=\"display:none;\">\n",
              "        \n",
              "  <svg xmlns=\"http://www.w3.org/2000/svg\" height=\"24px\"viewBox=\"0 0 24 24\"\n",
              "       width=\"24px\">\n",
              "    <path d=\"M0 0h24v24H0V0z\" fill=\"none\"/>\n",
              "    <path d=\"M18.56 5.44l.94 2.06.94-2.06 2.06-.94-2.06-.94-.94-2.06-.94 2.06-2.06.94zm-11 1L8.5 8.5l.94-2.06 2.06-.94-2.06-.94L8.5 2.5l-.94 2.06-2.06.94zm10 10l.94 2.06.94-2.06 2.06-.94-2.06-.94-.94-2.06-.94 2.06-2.06.94z\"/><path d=\"M17.41 7.96l-1.37-1.37c-.4-.4-.92-.59-1.43-.59-.52 0-1.04.2-1.43.59L10.3 9.45l-7.72 7.72c-.78.78-.78 2.05 0 2.83L4 21.41c.39.39.9.59 1.41.59.51 0 1.02-.2 1.41-.59l7.78-7.78 2.81-2.81c.8-.78.8-2.07 0-2.86zM5.41 20L4 18.59l7.72-7.72 1.47 1.35L5.41 20z\"/>\n",
              "  </svg>\n",
              "      </button>\n",
              "      \n",
              "  <style>\n",
              "    .colab-df-container {\n",
              "      display:flex;\n",
              "      flex-wrap:wrap;\n",
              "      gap: 12px;\n",
              "    }\n",
              "\n",
              "    .colab-df-convert {\n",
              "      background-color: #E8F0FE;\n",
              "      border: none;\n",
              "      border-radius: 50%;\n",
              "      cursor: pointer;\n",
              "      display: none;\n",
              "      fill: #1967D2;\n",
              "      height: 32px;\n",
              "      padding: 0 0 0 0;\n",
              "      width: 32px;\n",
              "    }\n",
              "\n",
              "    .colab-df-convert:hover {\n",
              "      background-color: #E2EBFA;\n",
              "      box-shadow: 0px 1px 2px rgba(60, 64, 67, 0.3), 0px 1px 3px 1px rgba(60, 64, 67, 0.15);\n",
              "      fill: #174EA6;\n",
              "    }\n",
              "\n",
              "    [theme=dark] .colab-df-convert {\n",
              "      background-color: #3B4455;\n",
              "      fill: #D2E3FC;\n",
              "    }\n",
              "\n",
              "    [theme=dark] .colab-df-convert:hover {\n",
              "      background-color: #434B5C;\n",
              "      box-shadow: 0px 1px 3px 1px rgba(0, 0, 0, 0.15);\n",
              "      filter: drop-shadow(0px 1px 2px rgba(0, 0, 0, 0.3));\n",
              "      fill: #FFFFFF;\n",
              "    }\n",
              "  </style>\n",
              "\n",
              "      <script>\n",
              "        const buttonEl =\n",
              "          document.querySelector('#df-fed03cff-53f0-4a8a-91c2-9b4d2cd7795a button.colab-df-convert');\n",
              "        buttonEl.style.display =\n",
              "          google.colab.kernel.accessAllowed ? 'block' : 'none';\n",
              "\n",
              "        async function convertToInteractive(key) {\n",
              "          const element = document.querySelector('#df-fed03cff-53f0-4a8a-91c2-9b4d2cd7795a');\n",
              "          const dataTable =\n",
              "            await google.colab.kernel.invokeFunction('convertToInteractive',\n",
              "                                                     [key], {});\n",
              "          if (!dataTable) return;\n",
              "\n",
              "          const docLinkHtml = 'Like what you see? Visit the ' +\n",
              "            '<a target=\"_blank\" href=https://colab.research.google.com/notebooks/data_table.ipynb>data table notebook</a>'\n",
              "            + ' to learn more about interactive tables.';\n",
              "          element.innerHTML = '';\n",
              "          dataTable['output_type'] = 'display_data';\n",
              "          await google.colab.output.renderOutput(dataTable, element);\n",
              "          const docLink = document.createElement('div');\n",
              "          docLink.innerHTML = docLinkHtml;\n",
              "          element.appendChild(docLink);\n",
              "        }\n",
              "      </script>\n",
              "    </div>\n",
              "  </div>\n",
              "  "
            ]
          },
          "metadata": {},
          "execution_count": 170
        }
      ]
    },
    {
      "cell_type": "code",
      "source": [
        "SriLankaTweets.describe()"
      ],
      "metadata": {
        "colab": {
          "base_uri": "https://localhost:8080/",
          "height": 394
        },
        "id": "ydkHw5Ydq7DO",
        "outputId": "bc2ca757-1ac9-40fe-c561-112874ef6e3f"
      },
      "execution_count": 171,
      "outputs": [
        {
          "output_type": "execute_result",
          "data": {
            "text/plain": [
              "        Unnamed: 0            id  conversation_id    created_at  timezone  \\\n",
              "count  10004.00000  1.000400e+04     1.000400e+04  1.000400e+04   10004.0   \n",
              "mean    5001.50000  1.546203e+18     1.545351e+18  1.657478e+12       0.0   \n",
              "std     2888.05038  1.702829e+13     1.817498e+16  4.059854e+06       0.0   \n",
              "min        0.00000  1.546176e+18     4.317868e+17  1.657472e+12       0.0   \n",
              "25%     2500.75000  1.546188e+18     1.546161e+18  1.657475e+12       0.0   \n",
              "50%     5001.50000  1.546201e+18     1.546189e+18  1.657478e+12       0.0   \n",
              "75%     7502.25000  1.546217e+18     1.546208e+18  1.657482e+12       0.0   \n",
              "max    10003.00000  1.546236e+18     1.546236e+18  1.657486e+12       0.0   \n",
              "\n",
              "            user_id   user_id_str      day          hour         video  ...  \\\n",
              "count  1.000400e+04  1.000400e+04  10004.0  10004.000000  10004.000000  ...   \n",
              "mean   7.201205e+17  7.201205e+17      7.0     18.183727      0.158437  ...   \n",
              "std    6.565444e+17  6.565444e+17      0.0      1.131568      0.365168  ...   \n",
              "min    7.592490e+05  7.592490e+05      7.0     16.000000      0.000000  ...   \n",
              "25%    5.259509e+08  5.259509e+08      7.0     17.000000      0.000000  ...   \n",
              "50%    9.101587e+17  9.101587e+17      7.0     18.000000      0.000000  ...   \n",
              "75%    1.383220e+18  1.383220e+18      7.0     19.000000      0.000000  ...   \n",
              "max    1.546220e+18  1.546220e+18      7.0     20.000000      1.000000  ...   \n",
              "\n",
              "       near  geo  source  user_rt_id  user_rt  retweet_id  retweet_date  \\\n",
              "count   0.0  0.0     0.0         0.0      0.0         0.0           0.0   \n",
              "mean    NaN  NaN     NaN         NaN      NaN         NaN           NaN   \n",
              "std     NaN  NaN     NaN         NaN      NaN         NaN           NaN   \n",
              "min     NaN  NaN     NaN         NaN      NaN         NaN           NaN   \n",
              "25%     NaN  NaN     NaN         NaN      NaN         NaN           NaN   \n",
              "50%     NaN  NaN     NaN         NaN      NaN         NaN           NaN   \n",
              "75%     NaN  NaN     NaN         NaN      NaN         NaN           NaN   \n",
              "max     NaN  NaN     NaN         NaN      NaN         NaN           NaN   \n",
              "\n",
              "       translate  trans_src  trans_dest  \n",
              "count        0.0        0.0         0.0  \n",
              "mean         NaN        NaN         NaN  \n",
              "std          NaN        NaN         NaN  \n",
              "min          NaN        NaN         NaN  \n",
              "25%          NaN        NaN         NaN  \n",
              "50%          NaN        NaN         NaN  \n",
              "75%          NaN        NaN         NaN  \n",
              "max          NaN        NaN         NaN  \n",
              "\n",
              "[8 rows x 23 columns]"
            ],
            "text/html": [
              "\n",
              "  <div id=\"df-72b31281-d1ab-4c36-ab83-b434069c7ef6\">\n",
              "    <div class=\"colab-df-container\">\n",
              "      <div>\n",
              "<style scoped>\n",
              "    .dataframe tbody tr th:only-of-type {\n",
              "        vertical-align: middle;\n",
              "    }\n",
              "\n",
              "    .dataframe tbody tr th {\n",
              "        vertical-align: top;\n",
              "    }\n",
              "\n",
              "    .dataframe thead th {\n",
              "        text-align: right;\n",
              "    }\n",
              "</style>\n",
              "<table border=\"1\" class=\"dataframe\">\n",
              "  <thead>\n",
              "    <tr style=\"text-align: right;\">\n",
              "      <th></th>\n",
              "      <th>Unnamed: 0</th>\n",
              "      <th>id</th>\n",
              "      <th>conversation_id</th>\n",
              "      <th>created_at</th>\n",
              "      <th>timezone</th>\n",
              "      <th>user_id</th>\n",
              "      <th>user_id_str</th>\n",
              "      <th>day</th>\n",
              "      <th>hour</th>\n",
              "      <th>video</th>\n",
              "      <th>...</th>\n",
              "      <th>near</th>\n",
              "      <th>geo</th>\n",
              "      <th>source</th>\n",
              "      <th>user_rt_id</th>\n",
              "      <th>user_rt</th>\n",
              "      <th>retweet_id</th>\n",
              "      <th>retweet_date</th>\n",
              "      <th>translate</th>\n",
              "      <th>trans_src</th>\n",
              "      <th>trans_dest</th>\n",
              "    </tr>\n",
              "  </thead>\n",
              "  <tbody>\n",
              "    <tr>\n",
              "      <th>count</th>\n",
              "      <td>10004.00000</td>\n",
              "      <td>1.000400e+04</td>\n",
              "      <td>1.000400e+04</td>\n",
              "      <td>1.000400e+04</td>\n",
              "      <td>10004.0</td>\n",
              "      <td>1.000400e+04</td>\n",
              "      <td>1.000400e+04</td>\n",
              "      <td>10004.0</td>\n",
              "      <td>10004.000000</td>\n",
              "      <td>10004.000000</td>\n",
              "      <td>...</td>\n",
              "      <td>0.0</td>\n",
              "      <td>0.0</td>\n",
              "      <td>0.0</td>\n",
              "      <td>0.0</td>\n",
              "      <td>0.0</td>\n",
              "      <td>0.0</td>\n",
              "      <td>0.0</td>\n",
              "      <td>0.0</td>\n",
              "      <td>0.0</td>\n",
              "      <td>0.0</td>\n",
              "    </tr>\n",
              "    <tr>\n",
              "      <th>mean</th>\n",
              "      <td>5001.50000</td>\n",
              "      <td>1.546203e+18</td>\n",
              "      <td>1.545351e+18</td>\n",
              "      <td>1.657478e+12</td>\n",
              "      <td>0.0</td>\n",
              "      <td>7.201205e+17</td>\n",
              "      <td>7.201205e+17</td>\n",
              "      <td>7.0</td>\n",
              "      <td>18.183727</td>\n",
              "      <td>0.158437</td>\n",
              "      <td>...</td>\n",
              "      <td>NaN</td>\n",
              "      <td>NaN</td>\n",
              "      <td>NaN</td>\n",
              "      <td>NaN</td>\n",
              "      <td>NaN</td>\n",
              "      <td>NaN</td>\n",
              "      <td>NaN</td>\n",
              "      <td>NaN</td>\n",
              "      <td>NaN</td>\n",
              "      <td>NaN</td>\n",
              "    </tr>\n",
              "    <tr>\n",
              "      <th>std</th>\n",
              "      <td>2888.05038</td>\n",
              "      <td>1.702829e+13</td>\n",
              "      <td>1.817498e+16</td>\n",
              "      <td>4.059854e+06</td>\n",
              "      <td>0.0</td>\n",
              "      <td>6.565444e+17</td>\n",
              "      <td>6.565444e+17</td>\n",
              "      <td>0.0</td>\n",
              "      <td>1.131568</td>\n",
              "      <td>0.365168</td>\n",
              "      <td>...</td>\n",
              "      <td>NaN</td>\n",
              "      <td>NaN</td>\n",
              "      <td>NaN</td>\n",
              "      <td>NaN</td>\n",
              "      <td>NaN</td>\n",
              "      <td>NaN</td>\n",
              "      <td>NaN</td>\n",
              "      <td>NaN</td>\n",
              "      <td>NaN</td>\n",
              "      <td>NaN</td>\n",
              "    </tr>\n",
              "    <tr>\n",
              "      <th>min</th>\n",
              "      <td>0.00000</td>\n",
              "      <td>1.546176e+18</td>\n",
              "      <td>4.317868e+17</td>\n",
              "      <td>1.657472e+12</td>\n",
              "      <td>0.0</td>\n",
              "      <td>7.592490e+05</td>\n",
              "      <td>7.592490e+05</td>\n",
              "      <td>7.0</td>\n",
              "      <td>16.000000</td>\n",
              "      <td>0.000000</td>\n",
              "      <td>...</td>\n",
              "      <td>NaN</td>\n",
              "      <td>NaN</td>\n",
              "      <td>NaN</td>\n",
              "      <td>NaN</td>\n",
              "      <td>NaN</td>\n",
              "      <td>NaN</td>\n",
              "      <td>NaN</td>\n",
              "      <td>NaN</td>\n",
              "      <td>NaN</td>\n",
              "      <td>NaN</td>\n",
              "    </tr>\n",
              "    <tr>\n",
              "      <th>25%</th>\n",
              "      <td>2500.75000</td>\n",
              "      <td>1.546188e+18</td>\n",
              "      <td>1.546161e+18</td>\n",
              "      <td>1.657475e+12</td>\n",
              "      <td>0.0</td>\n",
              "      <td>5.259509e+08</td>\n",
              "      <td>5.259509e+08</td>\n",
              "      <td>7.0</td>\n",
              "      <td>17.000000</td>\n",
              "      <td>0.000000</td>\n",
              "      <td>...</td>\n",
              "      <td>NaN</td>\n",
              "      <td>NaN</td>\n",
              "      <td>NaN</td>\n",
              "      <td>NaN</td>\n",
              "      <td>NaN</td>\n",
              "      <td>NaN</td>\n",
              "      <td>NaN</td>\n",
              "      <td>NaN</td>\n",
              "      <td>NaN</td>\n",
              "      <td>NaN</td>\n",
              "    </tr>\n",
              "    <tr>\n",
              "      <th>50%</th>\n",
              "      <td>5001.50000</td>\n",
              "      <td>1.546201e+18</td>\n",
              "      <td>1.546189e+18</td>\n",
              "      <td>1.657478e+12</td>\n",
              "      <td>0.0</td>\n",
              "      <td>9.101587e+17</td>\n",
              "      <td>9.101587e+17</td>\n",
              "      <td>7.0</td>\n",
              "      <td>18.000000</td>\n",
              "      <td>0.000000</td>\n",
              "      <td>...</td>\n",
              "      <td>NaN</td>\n",
              "      <td>NaN</td>\n",
              "      <td>NaN</td>\n",
              "      <td>NaN</td>\n",
              "      <td>NaN</td>\n",
              "      <td>NaN</td>\n",
              "      <td>NaN</td>\n",
              "      <td>NaN</td>\n",
              "      <td>NaN</td>\n",
              "      <td>NaN</td>\n",
              "    </tr>\n",
              "    <tr>\n",
              "      <th>75%</th>\n",
              "      <td>7502.25000</td>\n",
              "      <td>1.546217e+18</td>\n",
              "      <td>1.546208e+18</td>\n",
              "      <td>1.657482e+12</td>\n",
              "      <td>0.0</td>\n",
              "      <td>1.383220e+18</td>\n",
              "      <td>1.383220e+18</td>\n",
              "      <td>7.0</td>\n",
              "      <td>19.000000</td>\n",
              "      <td>0.000000</td>\n",
              "      <td>...</td>\n",
              "      <td>NaN</td>\n",
              "      <td>NaN</td>\n",
              "      <td>NaN</td>\n",
              "      <td>NaN</td>\n",
              "      <td>NaN</td>\n",
              "      <td>NaN</td>\n",
              "      <td>NaN</td>\n",
              "      <td>NaN</td>\n",
              "      <td>NaN</td>\n",
              "      <td>NaN</td>\n",
              "    </tr>\n",
              "    <tr>\n",
              "      <th>max</th>\n",
              "      <td>10003.00000</td>\n",
              "      <td>1.546236e+18</td>\n",
              "      <td>1.546236e+18</td>\n",
              "      <td>1.657486e+12</td>\n",
              "      <td>0.0</td>\n",
              "      <td>1.546220e+18</td>\n",
              "      <td>1.546220e+18</td>\n",
              "      <td>7.0</td>\n",
              "      <td>20.000000</td>\n",
              "      <td>1.000000</td>\n",
              "      <td>...</td>\n",
              "      <td>NaN</td>\n",
              "      <td>NaN</td>\n",
              "      <td>NaN</td>\n",
              "      <td>NaN</td>\n",
              "      <td>NaN</td>\n",
              "      <td>NaN</td>\n",
              "      <td>NaN</td>\n",
              "      <td>NaN</td>\n",
              "      <td>NaN</td>\n",
              "      <td>NaN</td>\n",
              "    </tr>\n",
              "  </tbody>\n",
              "</table>\n",
              "<p>8 rows × 23 columns</p>\n",
              "</div>\n",
              "      <button class=\"colab-df-convert\" onclick=\"convertToInteractive('df-72b31281-d1ab-4c36-ab83-b434069c7ef6')\"\n",
              "              title=\"Convert this dataframe to an interactive table.\"\n",
              "              style=\"display:none;\">\n",
              "        \n",
              "  <svg xmlns=\"http://www.w3.org/2000/svg\" height=\"24px\"viewBox=\"0 0 24 24\"\n",
              "       width=\"24px\">\n",
              "    <path d=\"M0 0h24v24H0V0z\" fill=\"none\"/>\n",
              "    <path d=\"M18.56 5.44l.94 2.06.94-2.06 2.06-.94-2.06-.94-.94-2.06-.94 2.06-2.06.94zm-11 1L8.5 8.5l.94-2.06 2.06-.94-2.06-.94L8.5 2.5l-.94 2.06-2.06.94zm10 10l.94 2.06.94-2.06 2.06-.94-2.06-.94-.94-2.06-.94 2.06-2.06.94z\"/><path d=\"M17.41 7.96l-1.37-1.37c-.4-.4-.92-.59-1.43-.59-.52 0-1.04.2-1.43.59L10.3 9.45l-7.72 7.72c-.78.78-.78 2.05 0 2.83L4 21.41c.39.39.9.59 1.41.59.51 0 1.02-.2 1.41-.59l7.78-7.78 2.81-2.81c.8-.78.8-2.07 0-2.86zM5.41 20L4 18.59l7.72-7.72 1.47 1.35L5.41 20z\"/>\n",
              "  </svg>\n",
              "      </button>\n",
              "      \n",
              "  <style>\n",
              "    .colab-df-container {\n",
              "      display:flex;\n",
              "      flex-wrap:wrap;\n",
              "      gap: 12px;\n",
              "    }\n",
              "\n",
              "    .colab-df-convert {\n",
              "      background-color: #E8F0FE;\n",
              "      border: none;\n",
              "      border-radius: 50%;\n",
              "      cursor: pointer;\n",
              "      display: none;\n",
              "      fill: #1967D2;\n",
              "      height: 32px;\n",
              "      padding: 0 0 0 0;\n",
              "      width: 32px;\n",
              "    }\n",
              "\n",
              "    .colab-df-convert:hover {\n",
              "      background-color: #E2EBFA;\n",
              "      box-shadow: 0px 1px 2px rgba(60, 64, 67, 0.3), 0px 1px 3px 1px rgba(60, 64, 67, 0.15);\n",
              "      fill: #174EA6;\n",
              "    }\n",
              "\n",
              "    [theme=dark] .colab-df-convert {\n",
              "      background-color: #3B4455;\n",
              "      fill: #D2E3FC;\n",
              "    }\n",
              "\n",
              "    [theme=dark] .colab-df-convert:hover {\n",
              "      background-color: #434B5C;\n",
              "      box-shadow: 0px 1px 3px 1px rgba(0, 0, 0, 0.15);\n",
              "      filter: drop-shadow(0px 1px 2px rgba(0, 0, 0, 0.3));\n",
              "      fill: #FFFFFF;\n",
              "    }\n",
              "  </style>\n",
              "\n",
              "      <script>\n",
              "        const buttonEl =\n",
              "          document.querySelector('#df-72b31281-d1ab-4c36-ab83-b434069c7ef6 button.colab-df-convert');\n",
              "        buttonEl.style.display =\n",
              "          google.colab.kernel.accessAllowed ? 'block' : 'none';\n",
              "\n",
              "        async function convertToInteractive(key) {\n",
              "          const element = document.querySelector('#df-72b31281-d1ab-4c36-ab83-b434069c7ef6');\n",
              "          const dataTable =\n",
              "            await google.colab.kernel.invokeFunction('convertToInteractive',\n",
              "                                                     [key], {});\n",
              "          if (!dataTable) return;\n",
              "\n",
              "          const docLinkHtml = 'Like what you see? Visit the ' +\n",
              "            '<a target=\"_blank\" href=https://colab.research.google.com/notebooks/data_table.ipynb>data table notebook</a>'\n",
              "            + ' to learn more about interactive tables.';\n",
              "          element.innerHTML = '';\n",
              "          dataTable['output_type'] = 'display_data';\n",
              "          await google.colab.output.renderOutput(dataTable, element);\n",
              "          const docLink = document.createElement('div');\n",
              "          docLink.innerHTML = docLinkHtml;\n",
              "          element.appendChild(docLink);\n",
              "        }\n",
              "      </script>\n",
              "    </div>\n",
              "  </div>\n",
              "  "
            ]
          },
          "metadata": {},
          "execution_count": 171
        }
      ]
    },
    {
      "cell_type": "code",
      "source": [
        "SriLankaTweets['language'].unique()"
      ],
      "metadata": {
        "colab": {
          "base_uri": "https://localhost:8080/"
        },
        "id": "XpKdM_GFrE8u",
        "outputId": "66c1acfe-0d27-4f97-cc40-d01f0ac750ed"
      },
      "execution_count": 172,
      "outputs": [
        {
          "output_type": "execute_result",
          "data": {
            "text/plain": [
              "array(['de', 'es', 'hi', 'et', 'en', 'in', 'fr', 'tr', 'qht', 'it', 'ar',\n",
              "       'lt', 'und', 'ca', 'tl', 'qme', 'pt', 'ur', 'pl', 'zxx', 'nl',\n",
              "       'sv', 'bn', 'cs', 'ht', 'ta', 'da', 'qam', 'ro', 'si', 'fi', 'el',\n",
              "       'sl', 'cy', 'th', 'no', 'mr', 'kn', 'fa', 'ml', 'hu', 'lv', 'am',\n",
              "       'ru', 'vi', 'ja', 'ne', 'te', 'gu'], dtype=object)"
            ]
          },
          "metadata": {},
          "execution_count": 172
        }
      ]
    },
    {
      "cell_type": "markdown",
      "source": [
        "##Dataset pretreatment"
      ],
      "metadata": {
        "id": "GOvgh5BSGyMi"
      }
    },
    {
      "cell_type": "code",
      "source": [
        "SriLankaTweets = SriLankaTweets.loc[SriLankaTweets['language'] == 'en']"
      ],
      "metadata": {
        "id": "NUuiJLaXrRJX"
      },
      "execution_count": 175,
      "outputs": []
    },
    {
      "cell_type": "code",
      "source": [
        "len(SriLankaTweets)"
      ],
      "metadata": {
        "colab": {
          "base_uri": "https://localhost:8080/"
        },
        "id": "sU5ZaQZ7t2V-",
        "outputId": "ffceaad2-2f96-4511-ef0d-14dc37466069"
      },
      "execution_count": 176,
      "outputs": [
        {
          "output_type": "execute_result",
          "data": {
            "text/plain": [
              "5008"
            ]
          },
          "metadata": {},
          "execution_count": 176
        }
      ]
    },
    {
      "cell_type": "code",
      "source": [
        "SriLankaTweets['tweet'].dropna()"
      ],
      "metadata": {
        "colab": {
          "base_uri": "https://localhost:8080/"
        },
        "id": "xBLP7h6SxT92",
        "outputId": "79c76c40-096a-4a3e-a036-166b8cce8121"
      },
      "execution_count": 177,
      "outputs": [
        {
          "output_type": "execute_result",
          "data": {
            "text/plain": [
              "5        Sri Lanka protesters vow to occupy presidentia...\n",
              "7        @cricketbetting @sampsoncollins @Richard_Mann1...\n",
              "8        @CeyTamAtheist Worship animals hoping for divi...\n",
              "10       Yesterday it was Sri Lanka. Today it's Albania...\n",
              "11       Groundwater shortage is known, flooding too. W...\n",
              "                               ...                        \n",
              "9993     @narendramodi ji are you aware of what's happe...\n",
              "9994     \"The United States, together with many other m...\n",
              "9995     @Swamy39 You never know or get what people are...\n",
              "9997     Education minister is busy in cutting ribbons ...\n",
              "10003    Are you going to attack the peaceful protester...\n",
              "Name: tweet, Length: 5008, dtype: object"
            ]
          },
          "metadata": {},
          "execution_count": 177
        }
      ]
    },
    {
      "cell_type": "code",
      "source": [
        "def preprocessingText(sentences):\n",
        "  sentences = sentences.apply(lambda sequence:\n",
        "                                              [ltrs.lower() for ltrs in sequence if ltrs not in string.punctuation])\n",
        "  sentences = sentences.apply(lambda wrd: ''.join(wrd))\n",
        "  return sentences"
      ],
      "metadata": {
        "id": "JSw_1ShCD99y"
      },
      "execution_count": 178,
      "outputs": []
    },
    {
      "cell_type": "code",
      "source": [
        "SriLankaTweets['tweet'] = preprocessingText(SriLankaTweets['tweet'])"
      ],
      "metadata": {
        "id": "KeHNlHcKmpll"
      },
      "execution_count": 179,
      "outputs": []
    },
    {
      "cell_type": "code",
      "source": [
        "SriLankaTweets.head()"
      ],
      "metadata": {
        "colab": {
          "base_uri": "https://localhost:8080/",
          "height": 577
        },
        "id": "OXiVJ6Oho2BP",
        "outputId": "76402578-e11a-428f-f938-5c8b0805b45b"
      },
      "execution_count": 180,
      "outputs": [
        {
          "output_type": "execute_result",
          "data": {
            "text/plain": [
              "    Unnamed: 0                   id      conversation_id    created_at  \\\n",
              "5            5  1546235750446170113  1546235750446170113  1.657486e+12   \n",
              "7            7  1546235749594439683  1544613357034110976  1.657486e+12   \n",
              "8            8  1546235748357062657  1546029883591106562  1.657486e+12   \n",
              "10          10  1546235733685555201  1546235733685555201  1.657486e+12   \n",
              "11          11  1546235705747202051  1546235705747202051  1.657486e+12   \n",
              "\n",
              "                   date  timezone place  \\\n",
              "5   2022-07-10 20:51:45         0   NaN   \n",
              "7   2022-07-10 20:51:45         0   NaN   \n",
              "8   2022-07-10 20:51:44         0   NaN   \n",
              "10  2022-07-10 20:51:41         0   NaN   \n",
              "11  2022-07-10 20:51:34         0   NaN   \n",
              "\n",
              "                                                tweet language  \\\n",
              "5   sri lanka protesters vow to occupy presidentia...       en   \n",
              "7   cricketbetting sampsoncollins richardmann11 pa...       en   \n",
              "8   ceytamatheist worship animals hoping for divin...       en   \n",
              "10  yesterday it was sri lanka today its albania i...       en   \n",
              "11  groundwater shortage is known flooding too we ...       en   \n",
              "\n",
              "                                        hashtags  ... geo  source  user_rt_id  \\\n",
              "5                                             []  ... NaN     NaN         NaN   \n",
              "7                                             []  ... NaN     NaN         NaN   \n",
              "8                                             []  ... NaN     NaN         NaN   \n",
              "10                                            []  ... NaN     NaN         NaN   \n",
              "11  ['srilanka', 'baerbock', 'lanz', 'annewill']  ... NaN     NaN         NaN   \n",
              "\n",
              "   user_rt retweet_id                                           reply_to  \\\n",
              "5      NaN        NaN                                                 []   \n",
              "7      NaN        NaN  [{'screen_name': 'cricketbetting', 'name': 'Ed...   \n",
              "8      NaN        NaN  [{'screen_name': 'CeyTamAtheist', 'name': 'Cey...   \n",
              "10     NaN        NaN                                                 []   \n",
              "11     NaN        NaN                                                 []   \n",
              "\n",
              "    retweet_date translate trans_src trans_dest  \n",
              "5            NaN       NaN       NaN        NaN  \n",
              "7            NaN       NaN       NaN        NaN  \n",
              "8            NaN       NaN       NaN        NaN  \n",
              "10           NaN       NaN       NaN        NaN  \n",
              "11           NaN       NaN       NaN        NaN  \n",
              "\n",
              "[5 rows x 39 columns]"
            ],
            "text/html": [
              "\n",
              "  <div id=\"df-399f4673-2086-42bc-a20b-519ecd3d9f14\">\n",
              "    <div class=\"colab-df-container\">\n",
              "      <div>\n",
              "<style scoped>\n",
              "    .dataframe tbody tr th:only-of-type {\n",
              "        vertical-align: middle;\n",
              "    }\n",
              "\n",
              "    .dataframe tbody tr th {\n",
              "        vertical-align: top;\n",
              "    }\n",
              "\n",
              "    .dataframe thead th {\n",
              "        text-align: right;\n",
              "    }\n",
              "</style>\n",
              "<table border=\"1\" class=\"dataframe\">\n",
              "  <thead>\n",
              "    <tr style=\"text-align: right;\">\n",
              "      <th></th>\n",
              "      <th>Unnamed: 0</th>\n",
              "      <th>id</th>\n",
              "      <th>conversation_id</th>\n",
              "      <th>created_at</th>\n",
              "      <th>date</th>\n",
              "      <th>timezone</th>\n",
              "      <th>place</th>\n",
              "      <th>tweet</th>\n",
              "      <th>language</th>\n",
              "      <th>hashtags</th>\n",
              "      <th>...</th>\n",
              "      <th>geo</th>\n",
              "      <th>source</th>\n",
              "      <th>user_rt_id</th>\n",
              "      <th>user_rt</th>\n",
              "      <th>retweet_id</th>\n",
              "      <th>reply_to</th>\n",
              "      <th>retweet_date</th>\n",
              "      <th>translate</th>\n",
              "      <th>trans_src</th>\n",
              "      <th>trans_dest</th>\n",
              "    </tr>\n",
              "  </thead>\n",
              "  <tbody>\n",
              "    <tr>\n",
              "      <th>5</th>\n",
              "      <td>5</td>\n",
              "      <td>1546235750446170113</td>\n",
              "      <td>1546235750446170113</td>\n",
              "      <td>1.657486e+12</td>\n",
              "      <td>2022-07-10 20:51:45</td>\n",
              "      <td>0</td>\n",
              "      <td>NaN</td>\n",
              "      <td>sri lanka protesters vow to occupy presidentia...</td>\n",
              "      <td>en</td>\n",
              "      <td>[]</td>\n",
              "      <td>...</td>\n",
              "      <td>NaN</td>\n",
              "      <td>NaN</td>\n",
              "      <td>NaN</td>\n",
              "      <td>NaN</td>\n",
              "      <td>NaN</td>\n",
              "      <td>[]</td>\n",
              "      <td>NaN</td>\n",
              "      <td>NaN</td>\n",
              "      <td>NaN</td>\n",
              "      <td>NaN</td>\n",
              "    </tr>\n",
              "    <tr>\n",
              "      <th>7</th>\n",
              "      <td>7</td>\n",
              "      <td>1546235749594439683</td>\n",
              "      <td>1544613357034110976</td>\n",
              "      <td>1.657486e+12</td>\n",
              "      <td>2022-07-10 20:51:45</td>\n",
              "      <td>0</td>\n",
              "      <td>NaN</td>\n",
              "      <td>cricketbetting sampsoncollins richardmann11 pa...</td>\n",
              "      <td>en</td>\n",
              "      <td>[]</td>\n",
              "      <td>...</td>\n",
              "      <td>NaN</td>\n",
              "      <td>NaN</td>\n",
              "      <td>NaN</td>\n",
              "      <td>NaN</td>\n",
              "      <td>NaN</td>\n",
              "      <td>[{'screen_name': 'cricketbetting', 'name': 'Ed...</td>\n",
              "      <td>NaN</td>\n",
              "      <td>NaN</td>\n",
              "      <td>NaN</td>\n",
              "      <td>NaN</td>\n",
              "    </tr>\n",
              "    <tr>\n",
              "      <th>8</th>\n",
              "      <td>8</td>\n",
              "      <td>1546235748357062657</td>\n",
              "      <td>1546029883591106562</td>\n",
              "      <td>1.657486e+12</td>\n",
              "      <td>2022-07-10 20:51:44</td>\n",
              "      <td>0</td>\n",
              "      <td>NaN</td>\n",
              "      <td>ceytamatheist worship animals hoping for divin...</td>\n",
              "      <td>en</td>\n",
              "      <td>[]</td>\n",
              "      <td>...</td>\n",
              "      <td>NaN</td>\n",
              "      <td>NaN</td>\n",
              "      <td>NaN</td>\n",
              "      <td>NaN</td>\n",
              "      <td>NaN</td>\n",
              "      <td>[{'screen_name': 'CeyTamAtheist', 'name': 'Cey...</td>\n",
              "      <td>NaN</td>\n",
              "      <td>NaN</td>\n",
              "      <td>NaN</td>\n",
              "      <td>NaN</td>\n",
              "    </tr>\n",
              "    <tr>\n",
              "      <th>10</th>\n",
              "      <td>10</td>\n",
              "      <td>1546235733685555201</td>\n",
              "      <td>1546235733685555201</td>\n",
              "      <td>1.657486e+12</td>\n",
              "      <td>2022-07-10 20:51:41</td>\n",
              "      <td>0</td>\n",
              "      <td>NaN</td>\n",
              "      <td>yesterday it was sri lanka today its albania i...</td>\n",
              "      <td>en</td>\n",
              "      <td>[]</td>\n",
              "      <td>...</td>\n",
              "      <td>NaN</td>\n",
              "      <td>NaN</td>\n",
              "      <td>NaN</td>\n",
              "      <td>NaN</td>\n",
              "      <td>NaN</td>\n",
              "      <td>[]</td>\n",
              "      <td>NaN</td>\n",
              "      <td>NaN</td>\n",
              "      <td>NaN</td>\n",
              "      <td>NaN</td>\n",
              "    </tr>\n",
              "    <tr>\n",
              "      <th>11</th>\n",
              "      <td>11</td>\n",
              "      <td>1546235705747202051</td>\n",
              "      <td>1546235705747202051</td>\n",
              "      <td>1.657486e+12</td>\n",
              "      <td>2022-07-10 20:51:34</td>\n",
              "      <td>0</td>\n",
              "      <td>NaN</td>\n",
              "      <td>groundwater shortage is known flooding too we ...</td>\n",
              "      <td>en</td>\n",
              "      <td>['srilanka', 'baerbock', 'lanz', 'annewill']</td>\n",
              "      <td>...</td>\n",
              "      <td>NaN</td>\n",
              "      <td>NaN</td>\n",
              "      <td>NaN</td>\n",
              "      <td>NaN</td>\n",
              "      <td>NaN</td>\n",
              "      <td>[]</td>\n",
              "      <td>NaN</td>\n",
              "      <td>NaN</td>\n",
              "      <td>NaN</td>\n",
              "      <td>NaN</td>\n",
              "    </tr>\n",
              "  </tbody>\n",
              "</table>\n",
              "<p>5 rows × 39 columns</p>\n",
              "</div>\n",
              "      <button class=\"colab-df-convert\" onclick=\"convertToInteractive('df-399f4673-2086-42bc-a20b-519ecd3d9f14')\"\n",
              "              title=\"Convert this dataframe to an interactive table.\"\n",
              "              style=\"display:none;\">\n",
              "        \n",
              "  <svg xmlns=\"http://www.w3.org/2000/svg\" height=\"24px\"viewBox=\"0 0 24 24\"\n",
              "       width=\"24px\">\n",
              "    <path d=\"M0 0h24v24H0V0z\" fill=\"none\"/>\n",
              "    <path d=\"M18.56 5.44l.94 2.06.94-2.06 2.06-.94-2.06-.94-.94-2.06-.94 2.06-2.06.94zm-11 1L8.5 8.5l.94-2.06 2.06-.94-2.06-.94L8.5 2.5l-.94 2.06-2.06.94zm10 10l.94 2.06.94-2.06 2.06-.94-2.06-.94-.94-2.06-.94 2.06-2.06.94z\"/><path d=\"M17.41 7.96l-1.37-1.37c-.4-.4-.92-.59-1.43-.59-.52 0-1.04.2-1.43.59L10.3 9.45l-7.72 7.72c-.78.78-.78 2.05 0 2.83L4 21.41c.39.39.9.59 1.41.59.51 0 1.02-.2 1.41-.59l7.78-7.78 2.81-2.81c.8-.78.8-2.07 0-2.86zM5.41 20L4 18.59l7.72-7.72 1.47 1.35L5.41 20z\"/>\n",
              "  </svg>\n",
              "      </button>\n",
              "      \n",
              "  <style>\n",
              "    .colab-df-container {\n",
              "      display:flex;\n",
              "      flex-wrap:wrap;\n",
              "      gap: 12px;\n",
              "    }\n",
              "\n",
              "    .colab-df-convert {\n",
              "      background-color: #E8F0FE;\n",
              "      border: none;\n",
              "      border-radius: 50%;\n",
              "      cursor: pointer;\n",
              "      display: none;\n",
              "      fill: #1967D2;\n",
              "      height: 32px;\n",
              "      padding: 0 0 0 0;\n",
              "      width: 32px;\n",
              "    }\n",
              "\n",
              "    .colab-df-convert:hover {\n",
              "      background-color: #E2EBFA;\n",
              "      box-shadow: 0px 1px 2px rgba(60, 64, 67, 0.3), 0px 1px 3px 1px rgba(60, 64, 67, 0.15);\n",
              "      fill: #174EA6;\n",
              "    }\n",
              "\n",
              "    [theme=dark] .colab-df-convert {\n",
              "      background-color: #3B4455;\n",
              "      fill: #D2E3FC;\n",
              "    }\n",
              "\n",
              "    [theme=dark] .colab-df-convert:hover {\n",
              "      background-color: #434B5C;\n",
              "      box-shadow: 0px 1px 3px 1px rgba(0, 0, 0, 0.15);\n",
              "      filter: drop-shadow(0px 1px 2px rgba(0, 0, 0, 0.3));\n",
              "      fill: #FFFFFF;\n",
              "    }\n",
              "  </style>\n",
              "\n",
              "      <script>\n",
              "        const buttonEl =\n",
              "          document.querySelector('#df-399f4673-2086-42bc-a20b-519ecd3d9f14 button.colab-df-convert');\n",
              "        buttonEl.style.display =\n",
              "          google.colab.kernel.accessAllowed ? 'block' : 'none';\n",
              "\n",
              "        async function convertToInteractive(key) {\n",
              "          const element = document.querySelector('#df-399f4673-2086-42bc-a20b-519ecd3d9f14');\n",
              "          const dataTable =\n",
              "            await google.colab.kernel.invokeFunction('convertToInteractive',\n",
              "                                                     [key], {});\n",
              "          if (!dataTable) return;\n",
              "\n",
              "          const docLinkHtml = 'Like what you see? Visit the ' +\n",
              "            '<a target=\"_blank\" href=https://colab.research.google.com/notebooks/data_table.ipynb>data table notebook</a>'\n",
              "            + ' to learn more about interactive tables.';\n",
              "          element.innerHTML = '';\n",
              "          dataTable['output_type'] = 'display_data';\n",
              "          await google.colab.output.renderOutput(dataTable, element);\n",
              "          const docLink = document.createElement('div');\n",
              "          docLink.innerHTML = docLinkHtml;\n",
              "          element.appendChild(docLink);\n",
              "        }\n",
              "      </script>\n",
              "    </div>\n",
              "  </div>\n",
              "  "
            ]
          },
          "metadata": {},
          "execution_count": 180
        }
      ]
    },
    {
      "cell_type": "code",
      "source": [
        "features = SriLankaTweets['tweet']"
      ],
      "metadata": {
        "id": "ZPEEE_4F4pxk"
      },
      "execution_count": 181,
      "outputs": []
    },
    {
      "cell_type": "code",
      "source": [
        "features.head()"
      ],
      "metadata": {
        "colab": {
          "base_uri": "https://localhost:8080/"
        },
        "id": "sbRP6CYu44Vj",
        "outputId": "2d4e66fc-f744-4823-cfcd-fccedd930d45"
      },
      "execution_count": 182,
      "outputs": [
        {
          "output_type": "execute_result",
          "data": {
            "text/plain": [
              "5     sri lanka protesters vow to occupy presidentia...\n",
              "7     cricketbetting sampsoncollins richardmann11 pa...\n",
              "8     ceytamatheist worship animals hoping for divin...\n",
              "10    yesterday it was sri lanka today its albania i...\n",
              "11    groundwater shortage is known flooding too we ...\n",
              "Name: tweet, dtype: object"
            ]
          },
          "metadata": {},
          "execution_count": 182
        }
      ]
    },
    {
      "cell_type": "code",
      "source": [
        "len(features)"
      ],
      "metadata": {
        "colab": {
          "base_uri": "https://localhost:8080/"
        },
        "id": "2h6l1gA5t5U8",
        "outputId": "ce110904-d226-41e6-9439-e537fc16ca80"
      },
      "execution_count": 183,
      "outputs": [
        {
          "output_type": "execute_result",
          "data": {
            "text/plain": [
              "5008"
            ]
          },
          "metadata": {},
          "execution_count": 183
        }
      ]
    },
    {
      "cell_type": "code",
      "source": [
        "features.shape"
      ],
      "metadata": {
        "colab": {
          "base_uri": "https://localhost:8080/"
        },
        "id": "sPsBZvm3t7-l",
        "outputId": "2b461848-0ef9-40d8-aef3-ecf8212d30b3"
      },
      "execution_count": 184,
      "outputs": [
        {
          "output_type": "execute_result",
          "data": {
            "text/plain": [
              "(5008,)"
            ]
          },
          "metadata": {},
          "execution_count": 184
        }
      ]
    },
    {
      "cell_type": "code",
      "source": [
        "tweets = emotion.tokenizer.texts_to_sequences(features)\n",
        "tweets = np.array(tweets).reshape(-1)\n",
        "tweets = pad_sequences(tweets, maxlen= 63)"
      ],
      "metadata": {
        "colab": {
          "base_uri": "https://localhost:8080/"
        },
        "id": "_w9kPXcxnnm_",
        "outputId": "5c995846-c10f-46ee-e26b-4f2ce4747535"
      },
      "execution_count": 204,
      "outputs": [
        {
          "output_type": "stream",
          "name": "stderr",
          "text": [
            "/usr/local/lib/python3.7/dist-packages/ipykernel_launcher.py:2: VisibleDeprecationWarning: Creating an ndarray from ragged nested sequences (which is a list-or-tuple of lists-or-tuples-or ndarrays with different lengths or shapes) is deprecated. If you meant to do this, you must specify 'dtype=object' when creating the ndarray.\n",
            "  \n"
          ]
        }
      ]
    },
    {
      "cell_type": "code",
      "source": [
        "tweets"
      ],
      "metadata": {
        "colab": {
          "base_uri": "https://localhost:8080/"
        },
        "id": "T1UsVu3VoNgQ",
        "outputId": "7805bca8-6a2e-4eca-f4cd-5aa16bcab1ce"
      },
      "execution_count": 205,
      "outputs": [
        {
          "output_type": "execute_result",
          "data": {
            "text/plain": [
              "array([[   0,    0,    0, ...,    4,  315,  185],\n",
              "       [   0,    0,    0, ...,  932,   11,    5],\n",
              "       [   0,    0,    0, ..., 1306,    4, 1097],\n",
              "       ...,\n",
              "       [   0,    0,    0, ...,   95,  134,   32],\n",
              "       [   0,    0,    0, ..., 1748,   21,   22],\n",
              "       [   0,    0,    0, ...,    5,  638,  127]], dtype=int32)"
            ]
          },
          "metadata": {},
          "execution_count": 205
        }
      ]
    },
    {
      "cell_type": "code",
      "source": [
        "tweets.shape"
      ],
      "metadata": {
        "colab": {
          "base_uri": "https://localhost:8080/"
        },
        "id": "nUNpv4AByA5F",
        "outputId": "1410e864-1ece-424a-9db0-791e39945dd9"
      },
      "execution_count": 206,
      "outputs": [
        {
          "output_type": "execute_result",
          "data": {
            "text/plain": [
              "(5008, 63)"
            ]
          },
          "metadata": {},
          "execution_count": 206
        }
      ]
    },
    {
      "cell_type": "markdown",
      "source": [
        "##Using the sentiment analysis model:\n",
        "Using the trained sentiment analysis model, in order to analyze the sentiments of tweeters within the Sri Lanka dataset.\n",
        "Sentiment type and sentiment affiliation will be preserved for each Tweet."
      ],
      "metadata": {
        "id": "sUZFmlutHNBi"
      }
    },
    {
      "cell_type": "code",
      "source": [
        "sentiment_labels = ['sadness', 'anger', 'love', 'surprise', 'fear', 'joy']\n",
        "sentiment_labels_encoding = [0, 1, 2, 3, 4, 5]"
      ],
      "metadata": {
        "id": "svLR7m52rOIP"
      },
      "execution_count": 241,
      "outputs": []
    },
    {
      "cell_type": "code",
      "source": [
        "results_sen_tweets = emotion.m.predict(tweets, batch_size = 256)"
      ],
      "metadata": {
        "id": "Qtloh5qbo61p"
      },
      "execution_count": 222,
      "outputs": []
    },
    {
      "cell_type": "code",
      "source": [
        "sentiments = []\n",
        "for i in results_sen_tweets:\n",
        "  res = np.argmax(i, axis = 0)\n",
        "  sentiments.append([sentiment_labels_encoding[res], i[res]])"
      ],
      "metadata": {
        "id": "jJS57Je6r_4K"
      },
      "execution_count": 267,
      "outputs": []
    },
    {
      "cell_type": "code",
      "source": [
        "len(sentiments)"
      ],
      "metadata": {
        "colab": {
          "base_uri": "https://localhost:8080/"
        },
        "id": "wQa7xHLKsv8x",
        "outputId": "1fb12329-5bf5-47b6-def9-9393c751afa5"
      },
      "execution_count": 268,
      "outputs": [
        {
          "output_type": "execute_result",
          "data": {
            "text/plain": [
              "5008"
            ]
          },
          "metadata": {},
          "execution_count": 268
        }
      ]
    },
    {
      "cell_type": "code",
      "source": [
        "sentiments[:10]"
      ],
      "metadata": {
        "colab": {
          "base_uri": "https://localhost:8080/"
        },
        "id": "AkDZqj66q6uW",
        "outputId": "02eb7244-66a0-43be-a93f-140361d69061"
      },
      "execution_count": 269,
      "outputs": [
        {
          "output_type": "execute_result",
          "data": {
            "text/plain": [
              "[[2, 0.38308504],\n",
              " [4, 0.9982109],\n",
              " [2, 0.9998367],\n",
              " [1, 0.9885429],\n",
              " [4, 0.6438615],\n",
              " [0, 0.46688205],\n",
              " [0, 0.65498286],\n",
              " [4, 0.6473544],\n",
              " [0, 0.91321164],\n",
              " [0, 0.7946743]]"
            ]
          },
          "metadata": {},
          "execution_count": 269
        }
      ]
    },
    {
      "cell_type": "markdown",
      "source": [
        "##A graph showing the distribution of tweeters' feelings regarding events in Sri Lanka"
      ],
      "metadata": {
        "id": "2OiPtGRUHgtq"
      }
    },
    {
      "cell_type": "code",
      "source": [
        "def count_sent(sentiments, depending_on):\n",
        "  c = 0\n",
        "  for i in sentiments:\n",
        "    if i[0] == depending_on:\n",
        "      c = c + 1\n",
        "  return c    "
      ],
      "metadata": {
        "id": "gmpEAXENzSXA"
      },
      "execution_count": 301,
      "outputs": []
    },
    {
      "cell_type": "code",
      "source": [
        "arr = []\n",
        "for i in sentiment_labels_encoding:\n",
        "  arr.append(count_sent(sentiments, i))"
      ],
      "metadata": {
        "id": "GcyTuOOAzZAR"
      },
      "execution_count": 302,
      "outputs": []
    },
    {
      "cell_type": "code",
      "source": [
        "arr"
      ],
      "metadata": {
        "colab": {
          "base_uri": "https://localhost:8080/"
        },
        "id": "lx37Doy13Orq",
        "outputId": "68b103fc-f3de-493c-e71c-f860576b88ae"
      },
      "execution_count": 303,
      "outputs": [
        {
          "output_type": "execute_result",
          "data": {
            "text/plain": [
              "[1467, 592, 1628, 79, 1080, 162]"
            ]
          },
          "metadata": {},
          "execution_count": 303
        }
      ]
    },
    {
      "cell_type": "code",
      "source": [
        "plt.pie(arr, labels = sentiment_labels)\n",
        "plt.show()"
      ],
      "metadata": {
        "colab": {
          "base_uri": "https://localhost:8080/",
          "height": 575
        },
        "id": "QOfMqOIF3ceX",
        "outputId": "5c7fb67c-9f4e-44dc-82f8-2db9ec6c40b4"
      },
      "execution_count": 306,
      "outputs": [
        {
          "output_type": "display_data",
          "data": {
            "text/plain": [
              "<Figure size 720x720 with 1 Axes>"
            ],
            "image/png": "[encoded data removed]"
          },
          "metadata": {}
        }
      ]
    },
    {
      "cell_type": "markdown",
      "source": [
        "##The hierarchical distribution of each feeling:\n",
        "This stage aims to determine the degree of convergence in terms of the single feeling of the tweeters, depending on the aggregation process based on the Euclidean distance, which depends on the percentage of feeling classification."
      ],
      "metadata": {
        "id": "EYR431cyHyT0"
      }
    },
    {
      "cell_type": "markdown",
      "source": [
        "###Dendrogram for Each Sentiment"
      ],
      "metadata": {
        "id": "y1dmsVJ6A5uY"
      }
    },
    {
      "cell_type": "code",
      "source": [
        "def each_sent(sentiments, depending_on):\n",
        "  arr = []\n",
        "  for i in sentiments:\n",
        "    if i[0] == depending_on:\n",
        "      arr.append(i)\n",
        "  return arr   "
      ],
      "metadata": {
        "id": "laZJzeo7BLcR"
      },
      "execution_count": 328,
      "outputs": []
    },
    {
      "cell_type": "code",
      "source": [
        "arr = []\n",
        "for i in sentiment_labels_encoding:\n",
        "  arr.append(each_sent(sentiments, i))"
      ],
      "metadata": {
        "id": "4YL1vz4uBU9T"
      },
      "execution_count": 329,
      "outputs": []
    },
    {
      "cell_type": "code",
      "source": [
        "import scipy.cluster.hierarchy as shc\n",
        "def draw_dendrogram(sentiments, title):\n",
        "  plt.figure(figsize=(15, 15))\n",
        "  plt.title(title)\n",
        "  clusters = shc.linkage(sentiments, \n",
        "              method='ward', \n",
        "              metric=\"euclidean\")\n",
        "  shc.dendrogram(Z=clusters)\n",
        "  plt.show()"
      ],
      "metadata": {
        "id": "M8rDphCi8S-d"
      },
      "execution_count": 336,
      "outputs": []
    },
    {
      "cell_type": "code",
      "source": [
        "draw_dendrogram(arr[0], 'sadness clustering')"
      ],
      "metadata": {
        "colab": {
          "base_uri": "https://localhost:8080/",
          "height": 880
        },
        "id": "pskvxftBBZOC",
        "outputId": "0a4e2b66-30a0-4878-d7cb-f8b9c252513c"
      },
      "execution_count": 337,
      "outputs": [
        {
          "output_type": "display_data",
          "data": {
            "text/plain": [
              "<Figure size 1080x1080 with 1 Axes>"
            ],
            "image/png": "[encoded data removed]"
          },
          "metadata": {}
        }
      ]
    },
    {
      "cell_type": "code",
      "source": [
        "draw_dendrogram(arr[1], 'anger clustering')"
      ],
      "metadata": {
        "colab": {
          "base_uri": "https://localhost:8080/",
          "height": 877
        },
        "id": "TclNASODChfJ",
        "outputId": "00caeef4-e31f-42ae-e0eb-4558c9d15f03"
      },
      "execution_count": 338,
      "outputs": [
        {
          "output_type": "display_data",
          "data": {
            "text/plain": [
              "<Figure size 1080x1080 with 1 Axes>"
            ],
            "image/png": "[encoded data removed]"
          },
          "metadata": {}
        }
      ]
    },
    {
      "cell_type": "code",
      "source": [
        "draw_dendrogram(arr[2], 'love clustering')"
      ],
      "metadata": {
        "colab": {
          "base_uri": "https://localhost:8080/",
          "height": 880
        },
        "id": "-g_sev13DPzp",
        "outputId": "148417fc-025e-49db-b9ce-f507f1c566ad"
      },
      "execution_count": 339,
      "outputs": [
        {
          "output_type": "display_data",
          "data": {
            "text/plain": [
              "<Figure size 1080x1080 with 1 Axes>"
            ],
            "image/png": "[encoded data removed]"
          },
          "metadata": {}
        }
      ]
    },
    {
      "cell_type": "code",
      "source": [
        "draw_dendrogram(arr[3], 'surprise clustering')"
      ],
      "metadata": {
        "colab": {
          "base_uri": "https://localhost:8080/",
          "height": 875
        },
        "id": "UW2La9MjDmlf",
        "outputId": "9a8f6b66-a042-48a2-c376-25bcc73d97fd"
      },
      "execution_count": 340,
      "outputs": [
        {
          "output_type": "display_data",
          "data": {
            "text/plain": [
              "<Figure size 1080x1080 with 1 Axes>"
            ],
            "image/png": "[encoded data removed]"
          },
          "metadata": {}
        }
      ]
    },
    {
      "cell_type": "code",
      "source": [
        "draw_dendrogram(arr[4], 'fear clustering')"
      ],
      "metadata": {
        "colab": {
          "base_uri": "https://localhost:8080/",
          "height": 880
        },
        "id": "37yPvYjXDsuR",
        "outputId": "ec78ffaa-f2a9-4ace-8861-5ad11ccaba52"
      },
      "execution_count": 341,
      "outputs": [
        {
          "output_type": "display_data",
          "data": {
            "text/plain": [
              "<Figure size 1080x1080 with 1 Axes>"
            ],
            "image/png": "[encoded data removed]"
          },
          "metadata": {}
        }
      ]
    },
    {
      "cell_type": "code",
      "source": [
        "draw_dendrogram(arr[5], 'joy clustering')"
      ],
      "metadata": {
        "colab": {
          "base_uri": "https://localhost:8080/",
          "height": 877
        },
        "id": "EW_HDlgIDwFh",
        "outputId": "2e98d9d6-f4be-47d2-bd9b-e829ebe4ea9f"
      },
      "execution_count": 342,
      "outputs": [
        {
          "output_type": "display_data",
          "data": {
            "text/plain": [
              "<Figure size 1080x1080 with 1 Axes>"
            ],
            "image/png": "[encoded data removed]"
          },
          "metadata": {}
        }
      ]
    }
  ]
}